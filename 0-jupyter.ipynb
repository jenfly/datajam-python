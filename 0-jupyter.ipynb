{
 "cells": [
  {
   "cell_type": "markdown",
   "metadata": {
    "slideshow": {
     "slide_type": "skip"
    }
   },
   "source": [
    "# Intro to Data Analysis in Python\n",
    "\n",
    "##### Navigation Links\n",
    "\n",
    "- [Software setup instructions](https://jenfly.github.io/datajam-python/SETUP)\n",
    "- Lessons:\n",
    "  - **0 - Intro to Jupyter**\n",
    "  - [1 - Intro to Pandas](https://jenfly.github.io/datajam-python/1-pandas.html)\n",
    "  - [2 - Intro to Data Visualization](https://jenfly.github.io/datajam-python/2-dataviz.html)\n",
    "- [Syntax summary](https://jenfly.github.io/datajam-python/syntax-summary)\n",
    "- [Solutions to exercises](https://jenfly.github.io/datajam-python/solutions.html)\n",
    "- You can download all the workshop materials as a [zipped folder](https://github.com/jenfly/datajam-python/archive/master.zip) or clone/fork the [Github repo](https://github.com/jenfly/datajam-python)\n",
    "- [Additional resources](https://jenfly.github.io/datajam-python/resources)"
   ]
  },
  {
   "cell_type": "markdown",
   "metadata": {
    "slideshow": {
     "slide_type": "fragment"
    }
   },
   "source": [
    "## Tentative Schedule\n",
    "\n",
    "- 1:00 Intro to Jupyter (35 min)\n",
    "- 1:35 Intro to Pandas (20 min)\n",
    "- 1:55 Break (10 min)\n",
    "- 2:05 Intro to Pandas cont'd (45 min)\n",
    "- 2:50 Break (10 min)\n",
    "- 3:00 Intro to Visualization (60 min)"
   ]
  },
  {
   "cell_type": "markdown",
   "metadata": {
    "slideshow": {
     "slide_type": "slide"
    }
   },
   "source": [
    "# Lesson 0: Intro to Jupyter"
   ]
  },
  {
   "cell_type": "markdown",
   "metadata": {
    "slideshow": {
     "slide_type": "slide"
    }
   },
   "source": [
    "## What is Jupyter?\n",
    "\n",
    "- For this workshop, we will be using Python via [Jupyter](https://jupyter.org/index.html)\n",
    "\n",
    "- You can think of Python like a car’s engine, while Jupyter is like a car’s dashboard\n",
    "\n",
    "  - Python is the programming language that runs computations\n",
    "  - Jupyter is an integrated development environment (IDE) that provides an interface by adding convenient features and tools\n",
    "\n",
    "![engine](img/python_jupyter.png)"
   ]
  },
  {
   "cell_type": "markdown",
   "metadata": {
    "slideshow": {
     "slide_type": "slide"
    }
   },
   "source": [
    "## Jupyter Notebooks\n",
    "\n",
    "- Code, plots, formatted text, equations, etc. in a single document\n",
    "- Run Python code interactively\n",
    "- Also supports R, Julia, Perl, and over 100 other languages (and counting!)"
   ]
  },
  {
   "cell_type": "markdown",
   "metadata": {
    "slideshow": {
     "slide_type": "fragment"
    }
   },
   "source": [
    "[Example Notebook](https://jenfly.github.io/datajam-python/example-notebook.html)"
   ]
  },
  {
   "cell_type": "markdown",
   "metadata": {
    "slideshow": {
     "slide_type": "fragment"
    }
   },
   "source": [
    "- Notebooks are great for exploration and for documenting your workflow\n",
    "- Many options for sharing notebooks in human readable format:\n",
    "  - Share online with [nbviewer.jupyter.org](http://nbviewer.jupyter.org/)\n",
    "  - If you use Github, any notebooks you upload are automatically rendered on the site\n",
    "  - Convert to HTML, PDF, etc. with [nbconvert](https://nbconvert.readthedocs.io/en/latest/)"
   ]
  },
  {
   "cell_type": "markdown",
   "metadata": {
    "slideshow": {
     "slide_type": "slide"
    }
   },
   "source": [
    "## Getting Started\n",
    "\n",
    "Let's open JupyterLab and create our first Jupyter notebook! Two options:\n",
    "\n",
    "- Working online on Syzygy\n",
    "- Working locally on your computer"
   ]
  },
  {
   "cell_type": "markdown",
   "metadata": {
    "slideshow": {
     "slide_type": "fragment"
    }
   },
   "source": [
    "### What if I don’t like where my current working directory is?\n",
    "\n",
    "![working_directory](img/working_directory.png)\n",
    "\n",
    "- Navigating the file system in JupyterLab\n",
    "- Creating new directories (folders)"
   ]
  },
  {
   "cell_type": "markdown",
   "metadata": {
    "slideshow": {
     "slide_type": "fragment"
    }
   },
   "source": [
    "### Classic Jupyter Notebook vs. JupyterLab\n",
    "\n",
    "- We'll be using JupyterLab\n",
    "- [This tutorial](https://nbviewer.jupyter.org/github/jenfly/jupyter-quickstart/blob/master/quickstart.ipynb) may be a helpful reference"
   ]
  },
  {
   "cell_type": "markdown",
   "metadata": {
    "slideshow": {
     "slide_type": "slide"
    }
   },
   "source": [
    "### Create a New Notebook\n",
    "\n",
    "- Create a new untitled notebook\n",
    "  - Note the .ipynb extension (comes from \"interactive Python notebook\", the previous name before it was changed to Jupyter to reflect multi-language support)\n",
    "  - Rename the notebook to \"workshop.ipynb\"\n",
    "- Notebooks auto-save periodically, or you can manually save\n",
    "- You can open a previously saved notebook by clicking on it in Files Sidebar"
   ]
  },
  {
   "cell_type": "markdown",
   "metadata": {
    "slideshow": {
     "slide_type": "slide"
    }
   },
   "source": [
    "## Working with Notebooks\n",
    "\n",
    "A notebook consists of a series of \"cells\":\n",
    "- **Code cells**: execute snippets of code and display the output\n",
    "- **Markdown cells**: formatted text, equations, images, and more\n",
    "\n",
    "By default, a new cell is always a code cell."
   ]
  },
  {
   "cell_type": "markdown",
   "metadata": {
    "slideshow": {
     "slide_type": "fragment"
    }
   },
   "source": [
    "## Code Cells\n",
    "\n",
    "To run a code cell, click in it and press `Shift-Enter` or press the Run button on the toolbar"
   ]
  },
  {
   "cell_type": "code",
   "execution_count": 1,
   "metadata": {
    "slideshow": {
     "slide_type": "fragment"
    }
   },
   "outputs": [
    {
     "name": "stdout",
     "output_type": "stream",
     "text": [
      "Hello world!\n"
     ]
    }
   ],
   "source": [
    "print('Hello world!')"
   ]
  },
  {
   "cell_type": "code",
   "execution_count": 2,
   "metadata": {
    "slideshow": {
     "slide_type": "fragment"
    }
   },
   "outputs": [
    {
     "data": {
      "text/plain": [
       "4"
      ]
     },
     "execution_count": 2,
     "metadata": {},
     "output_type": "execute_result"
    }
   ],
   "source": [
    "2 + 2"
   ]
  },
  {
   "cell_type": "code",
   "execution_count": 3,
   "metadata": {
    "slideshow": {
     "slide_type": "fragment"
    }
   },
   "outputs": [],
   "source": [
    "today = 'Friday'"
   ]
  },
  {
   "cell_type": "markdown",
   "metadata": {
    "slideshow": {
     "slide_type": "fragment"
    }
   },
   "source": [
    "Some handy features:\n",
    "\n",
    "- Auto-complete\n",
    "- Viewing documentation"
   ]
  },
  {
   "cell_type": "markdown",
   "metadata": {
    "slideshow": {
     "slide_type": "slide"
    }
   },
   "source": [
    "## Markdown Cells\n",
    "\n",
    "In Markdown cells, you can write plain text or add formatting and other elements with [Markdown](https://github.com/adam-p/markdown-here/wiki/Markdown-Cheatsheet). These include headers, **bold text**, *italic text*, hyperlinks, equations $A=\\pi r^2$, inline code `print('Hello world!')`, bulleted lists, and more."
   ]
  },
  {
   "cell_type": "markdown",
   "metadata": {
    "slideshow": {
     "slide_type": "fragment"
    }
   },
   "source": [
    "- To create a Markdown cell, select an empty cell and change the cell type from \"Code\" to \"Markdown\" in the dropdown menu on the toolbar\n",
    "- To run a Markdown cell, press `Shift-Enter` or the Run button on the toolbar\n",
    "- To edit a Markdown cell, you need to double-click inside it"
   ]
  },
  {
   "cell_type": "markdown",
   "metadata": {
    "slideshow": {
     "slide_type": "slide"
    }
   },
   "source": [
    "## Other Notebook Basics\n",
    "\n",
    "- Organizating cells &mdash; insert, delete, cut/copy/paste, move up/down, split, merge\n",
    "- Running all cells or selected cell(s)\n",
    "- Restarting and interrupting the kernel\n",
    "- Caveat: Notebooks are nonlinear and running cells out of order can sometimes lead to unexpected results\n",
    "  - It's good practice to periodically restart the kernel and run all cells, making sure that everything works as expected when you run the whole notebook from top to bottom\n",
    "- Closing vs. shutting down a notebook &mdash; kernel process in background\n",
    "- Re-opening a notebook after shutdown\n",
    "  - All the code output is maintained from the previous kernel session\n",
    "- Clear output of all cells or selected cell(s)"
   ]
  },
  {
   "cell_type": "markdown",
   "metadata": {
    "slideshow": {
     "slide_type": "fragment"
    }
   },
   "source": [
    "### Interactivity vs. Automation\n",
    "\n",
    "For a great example of how an interactive workflow in Jupyter notebook can progress into automation with libraries/scripts, check out Jake VanderPlas' blog post [Reproducible Data Analysis in Jupyter](https://jakevdp.github.io/blog/2017/03/03/reproducible-data-analysis-in-jupyter/)."
   ]
  },
  {
   "cell_type": "markdown",
   "metadata": {
    "slideshow": {
     "slide_type": "slide"
    }
   },
   "source": [
    "## Python Data Science Ecosystem\n",
    "\n",
    "The Python libraries for data science are developed and maintained by external \"3rd party\" development teams\n",
    "- Python core + 3rd party libraries = **ecosystem** \n",
    "- To install and manage 3rd party libraries, you need to use a package manager such as `conda` (which comes with Anaconda/Miniconda)"
   ]
  },
  {
   "cell_type": "markdown",
   "metadata": {
    "slideshow": {
     "slide_type": "fragment"
    }
   },
   "source": [
    "Some of the libraries in the Python data science ecosystem:\n",
    "\n",
    "![ecosystem_big](img/ecosystem_big.png)\n",
    "\n",
    "From [The Unexpected Effectiveness of Python in Science](https://speakerdeck.com/jakevdp/the-unexpected-effectiveness-of-python-in-science) (Jake VanderPlas)"
   ]
  },
  {
   "cell_type": "markdown",
   "metadata": {
    "slideshow": {
     "slide_type": "fragment"
    }
   },
   "source": [
    "In this workshop, we'll be using `pandas` to work with tabular data and will give a brief introduction to data visualization with the `seaborn` and `plotly` libraries."
   ]
  },
  {
   "cell_type": "markdown",
   "metadata": {
    "slideshow": {
     "slide_type": "skip"
    }
   },
   "source": [
    "---\n",
    "\n",
    "Go to: [next lesson](https://jenfly.github.io/datajam-python/1-pandas.html)"
   ]
  }
 ],
 "metadata": {
  "celltoolbar": "Slideshow",
  "kernelspec": {
   "display_name": "Python 3",
   "language": "python",
   "name": "python3"
  },
  "language_info": {
   "codemirror_mode": {
    "name": "ipython",
    "version": 3
   },
   "file_extension": ".py",
   "mimetype": "text/x-python",
   "name": "python",
   "nbconvert_exporter": "python",
   "pygments_lexer": "ipython3",
   "version": "3.8.8"
  },
  "livereveal": {
   "scroll": true,
   "theme": "solarized",
   "transition": "none"
  }
 },
 "nbformat": 4,
 "nbformat_minor": 4
}
