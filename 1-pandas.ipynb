{
 "cells": [
  {
   "cell_type": "markdown",
   "metadata": {
    "slideshow": {
     "slide_type": "slide"
    }
   },
   "source": [
    "# Lesson 1: Intro to Pandas"
   ]
  },
  {
   "cell_type": "markdown",
   "metadata": {
    "slideshow": {
     "slide_type": "slide"
    }
   },
   "source": [
    "## Lesson Overview\n",
    "\n",
    "In this lesson, we'll be covering the following topics:\n",
    "\n",
    "- Reading and writing CSV data\n",
    "- Quick and easy ways to summarize your data\n",
    "- Basic data manipulation operations:\n",
    "  - Select columns and rows of a data table\n",
    "  - Create new columns based on existing columns in a data table\n",
    "  - Grouping and aggregation"
   ]
  },
  {
   "cell_type": "markdown",
   "metadata": {
    "slideshow": {
     "slide_type": "fragment"
    }
   },
   "source": [
    "Additional resources:\n",
    "\n",
    "- To learn more about these topics, as well as other topics not covered here (e.g. reshaping, merging, additional subsetting methods, working with text data, etc.) check out [these introductory tutorials](https://pandas.pydata.org/docs/getting_started/index.html#getting-started) from the `pandas` documentation\n",
    "- This [pandas cheatsheet](https://pandas.pydata.org/Pandas_Cheat_Sheet.pdf) may also be helpful as a reference"
   ]
  },
  {
   "cell_type": "markdown",
   "metadata": {
    "slideshow": {
     "slide_type": "slide"
    }
   },
   "source": [
    "## What is Pandas?\n",
    "\n",
    "- `pandas` = [Python Data Analysis Library](https://pandas.pydata.org/)\n",
    "- Library for working with data tables (called **DataFrames** in `pandas`)\n",
    "  \n",
    "![dataframe](img/dataframe.png)"
   ]
  },
  {
   "cell_type": "markdown",
   "metadata": {
    "slideshow": {
     "slide_type": "fragment"
    }
   },
   "source": [
    "- Data formats include: comma separated values (CSV) and other text files, Excel spreadsheets, HDF5, [and others](https://pandas.pydata.org/pandas-docs/stable/user_guide/io.html)\n",
    "\n",
    "![readwrite](img/readwrite.png)\n",
    "\n",
    "- With `pandas` you can do pretty much everything you would in a spreadsheet, plus a whole lot more!"
   ]
  },
  {
   "cell_type": "markdown",
   "metadata": {
    "slideshow": {
     "slide_type": "slide"
    }
   },
   "source": [
    "## Why Pandas?\n",
    "- Working with large data files and complex calculations\n",
    "- Dealing with messy and missing data\n",
    "- Merging data from multiple files\n",
    "- Timeseries analysis\n",
    "- Automate repetitive tasks\n",
    "- Combine with other Python libraries to create beautiful and fully customized visualizations"
   ]
  },
  {
   "cell_type": "markdown",
   "metadata": {
    "slideshow": {
     "slide_type": "slide"
    }
   },
   "source": [
    "## Getting Started\n",
    "\n",
    "First, we need to import the `pandas` library:"
   ]
  },
  {
   "cell_type": "code",
   "execution_count": 1,
   "metadata": {
    "slideshow": {
     "slide_type": "-"
    }
   },
   "outputs": [],
   "source": [
    "import pandas"
   ]
  },
  {
   "cell_type": "markdown",
   "metadata": {
    "slideshow": {
     "slide_type": "fragment"
    }
   },
   "source": [
    "We'll be working with data about countries around the world, from the [Gapminder foundation](https://www.gapminder.org/about-gapminder/). You can view the data table online [here](https://github.com/jenfly/datajam-python/blob/master/data/gapminder.csv).\n",
    "\n",
    "| Column                | Description                        |\n",
    "|-----------------------|------------------------------------|\n",
    "| country               | Country name                       |\n",
    "| population            | Population in the country |\n",
    "| region                | Continent the country belongs to   |\n",
    "| sub_region            | Sub regions as defined by          |\n",
    "| income_group          | Income group [as specified by the world bank](https://datahelpdesk.worldbank.org/knowledgebase/articles/378833-how-are-the-income-group-thresholds-determined)                  |\n",
    "| life_expectancy       | The average number of years a newborn child would <br>live if mortality patterns were to stay the same |\n",
    "| gdp_per_capita         | GDP per capita (in USD) adjusted <br>for differences in purchasing power|\n",
    "| children_per_woman    | Number of children born to each woman|\n",
    "| child_mortality       | Deaths of children under 5 years <br>of age per 1000 live births|\n",
    "| pop_density           | Average number of people per km$^2$|\n",
    "| years_in_school_men   | Average number of years attending primary, secondary, and tertiary school for 25-36 years old men |\n",
    "| years_in_school_women | Average number of years attending primary, secondary, and tertiary school for 25-36 years old women |"
   ]
  },
  {
   "cell_type": "markdown",
   "metadata": {
    "slideshow": {
     "slide_type": "slide"
    }
   },
   "source": [
    "## Reading a CSV file\n",
    "\n",
    "We'll use the function `read_csv()` to load the data into our notebook\n",
    "\n",
    "- The `read_csv()` function can read data from a locally saved file or from a URL\n",
    "- We'll store the data as a variable `world`"
   ]
  },
  {
   "cell_type": "code",
   "execution_count": 2,
   "metadata": {
    "slideshow": {
     "slide_type": "-"
    }
   },
   "outputs": [],
   "source": [
    "world = pandas.read_csv('https://raw.githubusercontent.com/jenfly/datajam-python/master/data/gapminder.csv')"
   ]
  },
  {
   "cell_type": "code",
   "execution_count": 3,
   "metadata": {
    "slideshow": {
     "slide_type": "fragment"
    }
   },
   "outputs": [
    {
     "data": {
      "text/html": [
       "<div>\n",
       "<style scoped>\n",
       "    .dataframe tbody tr th:only-of-type {\n",
       "        vertical-align: middle;\n",
       "    }\n",
       "\n",
       "    .dataframe tbody tr th {\n",
       "        vertical-align: top;\n",
       "    }\n",
       "\n",
       "    .dataframe thead th {\n",
       "        text-align: right;\n",
       "    }\n",
       "</style>\n",
       "<table border=\"1\" class=\"dataframe\">\n",
       "  <thead>\n",
       "    <tr style=\"text-align: right;\">\n",
       "      <th></th>\n",
       "      <th>country</th>\n",
       "      <th>year</th>\n",
       "      <th>population</th>\n",
       "      <th>region</th>\n",
       "      <th>sub_region</th>\n",
       "      <th>income_group</th>\n",
       "      <th>life_expectancy</th>\n",
       "      <th>gdp_per_capita</th>\n",
       "      <th>children_per_woman</th>\n",
       "      <th>child_mortality</th>\n",
       "      <th>pop_density</th>\n",
       "      <th>years_in_school_men</th>\n",
       "      <th>years_in_school_women</th>\n",
       "    </tr>\n",
       "  </thead>\n",
       "  <tbody>\n",
       "    <tr>\n",
       "      <th>0</th>\n",
       "      <td>Afghanistan</td>\n",
       "      <td>1950</td>\n",
       "      <td>7750000</td>\n",
       "      <td>Asia</td>\n",
       "      <td>Southern Asia</td>\n",
       "      <td>Low</td>\n",
       "      <td>32.0</td>\n",
       "      <td>1040</td>\n",
       "      <td>7.57</td>\n",
       "      <td>425.0</td>\n",
       "      <td>11.9</td>\n",
       "      <td>NaN</td>\n",
       "      <td>NaN</td>\n",
       "    </tr>\n",
       "    <tr>\n",
       "      <th>1</th>\n",
       "      <td>Afghanistan</td>\n",
       "      <td>1955</td>\n",
       "      <td>8270000</td>\n",
       "      <td>Asia</td>\n",
       "      <td>Southern Asia</td>\n",
       "      <td>Low</td>\n",
       "      <td>35.1</td>\n",
       "      <td>1130</td>\n",
       "      <td>7.52</td>\n",
       "      <td>394.0</td>\n",
       "      <td>12.7</td>\n",
       "      <td>NaN</td>\n",
       "      <td>NaN</td>\n",
       "    </tr>\n",
       "    <tr>\n",
       "      <th>2</th>\n",
       "      <td>Afghanistan</td>\n",
       "      <td>1960</td>\n",
       "      <td>9000000</td>\n",
       "      <td>Asia</td>\n",
       "      <td>Southern Asia</td>\n",
       "      <td>Low</td>\n",
       "      <td>38.6</td>\n",
       "      <td>1210</td>\n",
       "      <td>7.45</td>\n",
       "      <td>364.0</td>\n",
       "      <td>13.8</td>\n",
       "      <td>NaN</td>\n",
       "      <td>NaN</td>\n",
       "    </tr>\n",
       "    <tr>\n",
       "      <th>3</th>\n",
       "      <td>Afghanistan</td>\n",
       "      <td>1965</td>\n",
       "      <td>9940000</td>\n",
       "      <td>Asia</td>\n",
       "      <td>Southern Asia</td>\n",
       "      <td>Low</td>\n",
       "      <td>42.2</td>\n",
       "      <td>1190</td>\n",
       "      <td>7.45</td>\n",
       "      <td>334.0</td>\n",
       "      <td>15.2</td>\n",
       "      <td>NaN</td>\n",
       "      <td>NaN</td>\n",
       "    </tr>\n",
       "    <tr>\n",
       "      <th>4</th>\n",
       "      <td>Afghanistan</td>\n",
       "      <td>1970</td>\n",
       "      <td>11100000</td>\n",
       "      <td>Asia</td>\n",
       "      <td>Southern Asia</td>\n",
       "      <td>Low</td>\n",
       "      <td>45.8</td>\n",
       "      <td>1180</td>\n",
       "      <td>7.45</td>\n",
       "      <td>306.0</td>\n",
       "      <td>17.0</td>\n",
       "      <td>1.36</td>\n",
       "      <td>0.21</td>\n",
       "    </tr>\n",
       "    <tr>\n",
       "      <th>...</th>\n",
       "      <td>...</td>\n",
       "      <td>...</td>\n",
       "      <td>...</td>\n",
       "      <td>...</td>\n",
       "      <td>...</td>\n",
       "      <td>...</td>\n",
       "      <td>...</td>\n",
       "      <td>...</td>\n",
       "      <td>...</td>\n",
       "      <td>...</td>\n",
       "      <td>...</td>\n",
       "      <td>...</td>\n",
       "      <td>...</td>\n",
       "    </tr>\n",
       "    <tr>\n",
       "      <th>2487</th>\n",
       "      <td>Zimbabwe</td>\n",
       "      <td>1995</td>\n",
       "      <td>11300000</td>\n",
       "      <td>Africa</td>\n",
       "      <td>Sub-Saharan Africa</td>\n",
       "      <td>Low</td>\n",
       "      <td>53.7</td>\n",
       "      <td>2480</td>\n",
       "      <td>4.43</td>\n",
       "      <td>90.1</td>\n",
       "      <td>29.3</td>\n",
       "      <td>8.41</td>\n",
       "      <td>6.92</td>\n",
       "    </tr>\n",
       "    <tr>\n",
       "      <th>2488</th>\n",
       "      <td>Zimbabwe</td>\n",
       "      <td>2000</td>\n",
       "      <td>12200000</td>\n",
       "      <td>Africa</td>\n",
       "      <td>Sub-Saharan Africa</td>\n",
       "      <td>Low</td>\n",
       "      <td>46.7</td>\n",
       "      <td>2570</td>\n",
       "      <td>4.06</td>\n",
       "      <td>96.8</td>\n",
       "      <td>31.6</td>\n",
       "      <td>9.07</td>\n",
       "      <td>7.71</td>\n",
       "    </tr>\n",
       "    <tr>\n",
       "      <th>2489</th>\n",
       "      <td>Zimbabwe</td>\n",
       "      <td>2005</td>\n",
       "      <td>12900000</td>\n",
       "      <td>Africa</td>\n",
       "      <td>Sub-Saharan Africa</td>\n",
       "      <td>Low</td>\n",
       "      <td>45.3</td>\n",
       "      <td>1650</td>\n",
       "      <td>3.99</td>\n",
       "      <td>99.7</td>\n",
       "      <td>33.4</td>\n",
       "      <td>9.73</td>\n",
       "      <td>8.53</td>\n",
       "    </tr>\n",
       "    <tr>\n",
       "      <th>2490</th>\n",
       "      <td>Zimbabwe</td>\n",
       "      <td>2010</td>\n",
       "      <td>14100000</td>\n",
       "      <td>Africa</td>\n",
       "      <td>Sub-Saharan Africa</td>\n",
       "      <td>Low</td>\n",
       "      <td>49.6</td>\n",
       "      <td>1460</td>\n",
       "      <td>4.03</td>\n",
       "      <td>89.9</td>\n",
       "      <td>36.4</td>\n",
       "      <td>10.40</td>\n",
       "      <td>9.36</td>\n",
       "    </tr>\n",
       "    <tr>\n",
       "      <th>2491</th>\n",
       "      <td>Zimbabwe</td>\n",
       "      <td>2015</td>\n",
       "      <td>15800000</td>\n",
       "      <td>Africa</td>\n",
       "      <td>Sub-Saharan Africa</td>\n",
       "      <td>Low</td>\n",
       "      <td>58.3</td>\n",
       "      <td>1890</td>\n",
       "      <td>3.84</td>\n",
       "      <td>59.9</td>\n",
       "      <td>40.8</td>\n",
       "      <td>11.10</td>\n",
       "      <td>10.20</td>\n",
       "    </tr>\n",
       "  </tbody>\n",
       "</table>\n",
       "<p>2492 rows × 13 columns</p>\n",
       "</div>"
      ],
      "text/plain": [
       "          country  year  population  region          sub_region income_group  \\\n",
       "0     Afghanistan  1950     7750000    Asia       Southern Asia          Low   \n",
       "1     Afghanistan  1955     8270000    Asia       Southern Asia          Low   \n",
       "2     Afghanistan  1960     9000000    Asia       Southern Asia          Low   \n",
       "3     Afghanistan  1965     9940000    Asia       Southern Asia          Low   \n",
       "4     Afghanistan  1970    11100000    Asia       Southern Asia          Low   \n",
       "...           ...   ...         ...     ...                 ...          ...   \n",
       "2487     Zimbabwe  1995    11300000  Africa  Sub-Saharan Africa          Low   \n",
       "2488     Zimbabwe  2000    12200000  Africa  Sub-Saharan Africa          Low   \n",
       "2489     Zimbabwe  2005    12900000  Africa  Sub-Saharan Africa          Low   \n",
       "2490     Zimbabwe  2010    14100000  Africa  Sub-Saharan Africa          Low   \n",
       "2491     Zimbabwe  2015    15800000  Africa  Sub-Saharan Africa          Low   \n",
       "\n",
       "      life_expectancy  gdp_per_capita  children_per_woman  child_mortality  \\\n",
       "0                32.0            1040                7.57            425.0   \n",
       "1                35.1            1130                7.52            394.0   \n",
       "2                38.6            1210                7.45            364.0   \n",
       "3                42.2            1190                7.45            334.0   \n",
       "4                45.8            1180                7.45            306.0   \n",
       "...               ...             ...                 ...              ...   \n",
       "2487             53.7            2480                4.43             90.1   \n",
       "2488             46.7            2570                4.06             96.8   \n",
       "2489             45.3            1650                3.99             99.7   \n",
       "2490             49.6            1460                4.03             89.9   \n",
       "2491             58.3            1890                3.84             59.9   \n",
       "\n",
       "      pop_density  years_in_school_men  years_in_school_women  \n",
       "0            11.9                  NaN                    NaN  \n",
       "1            12.7                  NaN                    NaN  \n",
       "2            13.8                  NaN                    NaN  \n",
       "3            15.2                  NaN                    NaN  \n",
       "4            17.0                 1.36                   0.21  \n",
       "...           ...                  ...                    ...  \n",
       "2487         29.3                 8.41                   6.92  \n",
       "2488         31.6                 9.07                   7.71  \n",
       "2489         33.4                 9.73                   8.53  \n",
       "2490         36.4                10.40                   9.36  \n",
       "2491         40.8                11.10                  10.20  \n",
       "\n",
       "[2492 rows x 13 columns]"
      ]
     },
     "execution_count": 3,
     "metadata": {},
     "output_type": "execute_result"
    }
   ],
   "source": [
    "world"
   ]
  },
  {
   "cell_type": "markdown",
   "metadata": {
    "slideshow": {
     "slide_type": "fragment"
    }
   },
   "source": [
    "- The output is truncated but the data is all there in our `world` variable\n",
    "- Each row of the table is an **observation**, containing the data for a single country in a single year\n",
    "- You may notice some weird `NaN` values&mdash;these represent missing data (`NaN` = \"not a number\")"
   ]
  },
  {
   "cell_type": "markdown",
   "metadata": {
    "slideshow": {
     "slide_type": "fragment"
    }
   },
   "source": [
    "What type of object is `world`?"
   ]
  },
  {
   "cell_type": "code",
   "execution_count": 4,
   "metadata": {
    "slideshow": {
     "slide_type": "-"
    }
   },
   "outputs": [
    {
     "data": {
      "text/plain": [
       "pandas.core.frame.DataFrame"
      ]
     },
     "execution_count": 4,
     "metadata": {},
     "output_type": "execute_result"
    }
   ],
   "source": [
    "type(world)"
   ]
  },
  {
   "cell_type": "markdown",
   "metadata": {
    "slideshow": {
     "slide_type": "fragment"
    }
   },
   "source": [
    "- `world` is a **DataFrame**, a data structure from the `pandas` library\n",
    "  - A DataFrame is a 2-dimensional array (organized into rows and columns, like a table in a spreadsheet)"
   ]
  },
  {
   "cell_type": "markdown",
   "metadata": {
    "slideshow": {
     "slide_type": "fragment"
    }
   },
   "source": [
    "- When we display `world`, the integer numbers in bold on the left are the DataFrame's **index**\n",
    "  - In this case, the index is simply a range of integers corresponding with the row numbers, which was automatically generated by `pandas` when loading the data"
   ]
  },
  {
   "cell_type": "markdown",
   "metadata": {
    "slideshow": {
     "slide_type": "slide"
    }
   },
   "source": [
    "For large DataFrames, it's often useful to display just the first few or last few rows:"
   ]
  },
  {
   "cell_type": "code",
   "execution_count": 5,
   "metadata": {
    "slideshow": {
     "slide_type": "-"
    }
   },
   "outputs": [
    {
     "data": {
      "text/html": [
       "<div>\n",
       "<style scoped>\n",
       "    .dataframe tbody tr th:only-of-type {\n",
       "        vertical-align: middle;\n",
       "    }\n",
       "\n",
       "    .dataframe tbody tr th {\n",
       "        vertical-align: top;\n",
       "    }\n",
       "\n",
       "    .dataframe thead th {\n",
       "        text-align: right;\n",
       "    }\n",
       "</style>\n",
       "<table border=\"1\" class=\"dataframe\">\n",
       "  <thead>\n",
       "    <tr style=\"text-align: right;\">\n",
       "      <th></th>\n",
       "      <th>country</th>\n",
       "      <th>year</th>\n",
       "      <th>population</th>\n",
       "      <th>region</th>\n",
       "      <th>sub_region</th>\n",
       "      <th>income_group</th>\n",
       "      <th>life_expectancy</th>\n",
       "      <th>gdp_per_capita</th>\n",
       "      <th>children_per_woman</th>\n",
       "      <th>child_mortality</th>\n",
       "      <th>pop_density</th>\n",
       "      <th>years_in_school_men</th>\n",
       "      <th>years_in_school_women</th>\n",
       "    </tr>\n",
       "  </thead>\n",
       "  <tbody>\n",
       "    <tr>\n",
       "      <th>0</th>\n",
       "      <td>Afghanistan</td>\n",
       "      <td>1950</td>\n",
       "      <td>7750000</td>\n",
       "      <td>Asia</td>\n",
       "      <td>Southern Asia</td>\n",
       "      <td>Low</td>\n",
       "      <td>32.0</td>\n",
       "      <td>1040</td>\n",
       "      <td>7.57</td>\n",
       "      <td>425.0</td>\n",
       "      <td>11.9</td>\n",
       "      <td>NaN</td>\n",
       "      <td>NaN</td>\n",
       "    </tr>\n",
       "    <tr>\n",
       "      <th>1</th>\n",
       "      <td>Afghanistan</td>\n",
       "      <td>1955</td>\n",
       "      <td>8270000</td>\n",
       "      <td>Asia</td>\n",
       "      <td>Southern Asia</td>\n",
       "      <td>Low</td>\n",
       "      <td>35.1</td>\n",
       "      <td>1130</td>\n",
       "      <td>7.52</td>\n",
       "      <td>394.0</td>\n",
       "      <td>12.7</td>\n",
       "      <td>NaN</td>\n",
       "      <td>NaN</td>\n",
       "    </tr>\n",
       "    <tr>\n",
       "      <th>2</th>\n",
       "      <td>Afghanistan</td>\n",
       "      <td>1960</td>\n",
       "      <td>9000000</td>\n",
       "      <td>Asia</td>\n",
       "      <td>Southern Asia</td>\n",
       "      <td>Low</td>\n",
       "      <td>38.6</td>\n",
       "      <td>1210</td>\n",
       "      <td>7.45</td>\n",
       "      <td>364.0</td>\n",
       "      <td>13.8</td>\n",
       "      <td>NaN</td>\n",
       "      <td>NaN</td>\n",
       "    </tr>\n",
       "    <tr>\n",
       "      <th>3</th>\n",
       "      <td>Afghanistan</td>\n",
       "      <td>1965</td>\n",
       "      <td>9940000</td>\n",
       "      <td>Asia</td>\n",
       "      <td>Southern Asia</td>\n",
       "      <td>Low</td>\n",
       "      <td>42.2</td>\n",
       "      <td>1190</td>\n",
       "      <td>7.45</td>\n",
       "      <td>334.0</td>\n",
       "      <td>15.2</td>\n",
       "      <td>NaN</td>\n",
       "      <td>NaN</td>\n",
       "    </tr>\n",
       "    <tr>\n",
       "      <th>4</th>\n",
       "      <td>Afghanistan</td>\n",
       "      <td>1970</td>\n",
       "      <td>11100000</td>\n",
       "      <td>Asia</td>\n",
       "      <td>Southern Asia</td>\n",
       "      <td>Low</td>\n",
       "      <td>45.8</td>\n",
       "      <td>1180</td>\n",
       "      <td>7.45</td>\n",
       "      <td>306.0</td>\n",
       "      <td>17.0</td>\n",
       "      <td>1.36</td>\n",
       "      <td>0.21</td>\n",
       "    </tr>\n",
       "  </tbody>\n",
       "</table>\n",
       "</div>"
      ],
      "text/plain": [
       "       country  year  population region     sub_region income_group  \\\n",
       "0  Afghanistan  1950     7750000   Asia  Southern Asia          Low   \n",
       "1  Afghanistan  1955     8270000   Asia  Southern Asia          Low   \n",
       "2  Afghanistan  1960     9000000   Asia  Southern Asia          Low   \n",
       "3  Afghanistan  1965     9940000   Asia  Southern Asia          Low   \n",
       "4  Afghanistan  1970    11100000   Asia  Southern Asia          Low   \n",
       "\n",
       "   life_expectancy  gdp_per_capita  children_per_woman  child_mortality  \\\n",
       "0             32.0            1040                7.57            425.0   \n",
       "1             35.1            1130                7.52            394.0   \n",
       "2             38.6            1210                7.45            364.0   \n",
       "3             42.2            1190                7.45            334.0   \n",
       "4             45.8            1180                7.45            306.0   \n",
       "\n",
       "   pop_density  years_in_school_men  years_in_school_women  \n",
       "0         11.9                  NaN                    NaN  \n",
       "1         12.7                  NaN                    NaN  \n",
       "2         13.8                  NaN                    NaN  \n",
       "3         15.2                  NaN                    NaN  \n",
       "4         17.0                 1.36                   0.21  "
      ]
     },
     "execution_count": 5,
     "metadata": {},
     "output_type": "execute_result"
    }
   ],
   "source": [
    "world.head()"
   ]
  },
  {
   "cell_type": "markdown",
   "metadata": {
    "slideshow": {
     "slide_type": "fragment"
    }
   },
   "source": [
    "The `head()` method returns a new DataFrame consisting of the first `n` rows (default 5)\n",
    "\n",
    "\n",
    "> Pro Tips!\n",
    "> - To display the documentation for this method within Jupyter notebook, you can run the command `world.head?` or press `Shift-Tab` within the parentheses of `world.head()`\n",
    "> - To see other methods available for the DataFrame, type `world.` followed by `Tab` for auto-complete options "
   ]
  },
  {
   "cell_type": "markdown",
   "metadata": {
    "slideshow": {
     "slide_type": "fragment"
    }
   },
   "source": [
    "First two rows:"
   ]
  },
  {
   "cell_type": "code",
   "execution_count": 6,
   "metadata": {
    "slideshow": {
     "slide_type": "-"
    }
   },
   "outputs": [
    {
     "data": {
      "text/html": [
       "<div>\n",
       "<style scoped>\n",
       "    .dataframe tbody tr th:only-of-type {\n",
       "        vertical-align: middle;\n",
       "    }\n",
       "\n",
       "    .dataframe tbody tr th {\n",
       "        vertical-align: top;\n",
       "    }\n",
       "\n",
       "    .dataframe thead th {\n",
       "        text-align: right;\n",
       "    }\n",
       "</style>\n",
       "<table border=\"1\" class=\"dataframe\">\n",
       "  <thead>\n",
       "    <tr style=\"text-align: right;\">\n",
       "      <th></th>\n",
       "      <th>country</th>\n",
       "      <th>year</th>\n",
       "      <th>population</th>\n",
       "      <th>region</th>\n",
       "      <th>sub_region</th>\n",
       "      <th>income_group</th>\n",
       "      <th>life_expectancy</th>\n",
       "      <th>gdp_per_capita</th>\n",
       "      <th>children_per_woman</th>\n",
       "      <th>child_mortality</th>\n",
       "      <th>pop_density</th>\n",
       "      <th>years_in_school_men</th>\n",
       "      <th>years_in_school_women</th>\n",
       "    </tr>\n",
       "  </thead>\n",
       "  <tbody>\n",
       "    <tr>\n",
       "      <th>0</th>\n",
       "      <td>Afghanistan</td>\n",
       "      <td>1950</td>\n",
       "      <td>7750000</td>\n",
       "      <td>Asia</td>\n",
       "      <td>Southern Asia</td>\n",
       "      <td>Low</td>\n",
       "      <td>32.0</td>\n",
       "      <td>1040</td>\n",
       "      <td>7.57</td>\n",
       "      <td>425.0</td>\n",
       "      <td>11.9</td>\n",
       "      <td>NaN</td>\n",
       "      <td>NaN</td>\n",
       "    </tr>\n",
       "    <tr>\n",
       "      <th>1</th>\n",
       "      <td>Afghanistan</td>\n",
       "      <td>1955</td>\n",
       "      <td>8270000</td>\n",
       "      <td>Asia</td>\n",
       "      <td>Southern Asia</td>\n",
       "      <td>Low</td>\n",
       "      <td>35.1</td>\n",
       "      <td>1130</td>\n",
       "      <td>7.52</td>\n",
       "      <td>394.0</td>\n",
       "      <td>12.7</td>\n",
       "      <td>NaN</td>\n",
       "      <td>NaN</td>\n",
       "    </tr>\n",
       "  </tbody>\n",
       "</table>\n",
       "</div>"
      ],
      "text/plain": [
       "       country  year  population region     sub_region income_group  \\\n",
       "0  Afghanistan  1950     7750000   Asia  Southern Asia          Low   \n",
       "1  Afghanistan  1955     8270000   Asia  Southern Asia          Low   \n",
       "\n",
       "   life_expectancy  gdp_per_capita  children_per_woman  child_mortality  \\\n",
       "0             32.0            1040                7.57            425.0   \n",
       "1             35.1            1130                7.52            394.0   \n",
       "\n",
       "   pop_density  years_in_school_men  years_in_school_women  \n",
       "0         11.9                  NaN                    NaN  \n",
       "1         12.7                  NaN                    NaN  "
      ]
     },
     "execution_count": 6,
     "metadata": {},
     "output_type": "execute_result"
    }
   ],
   "source": [
    "world.head(2)"
   ]
  },
  {
   "cell_type": "markdown",
   "metadata": {
    "slideshow": {
     "slide_type": "fragment"
    }
   },
   "source": [
    "What do you think the `tail` method does?"
   ]
  },
  {
   "cell_type": "code",
   "execution_count": 7,
   "metadata": {
    "slideshow": {
     "slide_type": "-"
    }
   },
   "outputs": [
    {
     "data": {
      "text/html": [
       "<div>\n",
       "<style scoped>\n",
       "    .dataframe tbody tr th:only-of-type {\n",
       "        vertical-align: middle;\n",
       "    }\n",
       "\n",
       "    .dataframe tbody tr th {\n",
       "        vertical-align: top;\n",
       "    }\n",
       "\n",
       "    .dataframe thead th {\n",
       "        text-align: right;\n",
       "    }\n",
       "</style>\n",
       "<table border=\"1\" class=\"dataframe\">\n",
       "  <thead>\n",
       "    <tr style=\"text-align: right;\">\n",
       "      <th></th>\n",
       "      <th>country</th>\n",
       "      <th>year</th>\n",
       "      <th>population</th>\n",
       "      <th>region</th>\n",
       "      <th>sub_region</th>\n",
       "      <th>income_group</th>\n",
       "      <th>life_expectancy</th>\n",
       "      <th>gdp_per_capita</th>\n",
       "      <th>children_per_woman</th>\n",
       "      <th>child_mortality</th>\n",
       "      <th>pop_density</th>\n",
       "      <th>years_in_school_men</th>\n",
       "      <th>years_in_school_women</th>\n",
       "    </tr>\n",
       "  </thead>\n",
       "  <tbody>\n",
       "    <tr>\n",
       "      <th>2489</th>\n",
       "      <td>Zimbabwe</td>\n",
       "      <td>2005</td>\n",
       "      <td>12900000</td>\n",
       "      <td>Africa</td>\n",
       "      <td>Sub-Saharan Africa</td>\n",
       "      <td>Low</td>\n",
       "      <td>45.3</td>\n",
       "      <td>1650</td>\n",
       "      <td>3.99</td>\n",
       "      <td>99.7</td>\n",
       "      <td>33.4</td>\n",
       "      <td>9.73</td>\n",
       "      <td>8.53</td>\n",
       "    </tr>\n",
       "    <tr>\n",
       "      <th>2490</th>\n",
       "      <td>Zimbabwe</td>\n",
       "      <td>2010</td>\n",
       "      <td>14100000</td>\n",
       "      <td>Africa</td>\n",
       "      <td>Sub-Saharan Africa</td>\n",
       "      <td>Low</td>\n",
       "      <td>49.6</td>\n",
       "      <td>1460</td>\n",
       "      <td>4.03</td>\n",
       "      <td>89.9</td>\n",
       "      <td>36.4</td>\n",
       "      <td>10.40</td>\n",
       "      <td>9.36</td>\n",
       "    </tr>\n",
       "    <tr>\n",
       "      <th>2491</th>\n",
       "      <td>Zimbabwe</td>\n",
       "      <td>2015</td>\n",
       "      <td>15800000</td>\n",
       "      <td>Africa</td>\n",
       "      <td>Sub-Saharan Africa</td>\n",
       "      <td>Low</td>\n",
       "      <td>58.3</td>\n",
       "      <td>1890</td>\n",
       "      <td>3.84</td>\n",
       "      <td>59.9</td>\n",
       "      <td>40.8</td>\n",
       "      <td>11.10</td>\n",
       "      <td>10.20</td>\n",
       "    </tr>\n",
       "  </tbody>\n",
       "</table>\n",
       "</div>"
      ],
      "text/plain": [
       "       country  year  population  region          sub_region income_group  \\\n",
       "2489  Zimbabwe  2005    12900000  Africa  Sub-Saharan Africa          Low   \n",
       "2490  Zimbabwe  2010    14100000  Africa  Sub-Saharan Africa          Low   \n",
       "2491  Zimbabwe  2015    15800000  Africa  Sub-Saharan Africa          Low   \n",
       "\n",
       "      life_expectancy  gdp_per_capita  children_per_woman  child_mortality  \\\n",
       "2489             45.3            1650                3.99             99.7   \n",
       "2490             49.6            1460                4.03             89.9   \n",
       "2491             58.3            1890                3.84             59.9   \n",
       "\n",
       "      pop_density  years_in_school_men  years_in_school_women  \n",
       "2489         33.4                 9.73                   8.53  \n",
       "2490         36.4                10.40                   9.36  \n",
       "2491         40.8                11.10                  10.20  "
      ]
     },
     "execution_count": 7,
     "metadata": {},
     "output_type": "execute_result"
    }
   ],
   "source": [
    "world.tail(3)"
   ]
  },
  {
   "cell_type": "markdown",
   "metadata": {
    "slideshow": {
     "slide_type": "slide"
    }
   },
   "source": [
    "## Data at a Glance\n",
    "\n",
    "`pandas` provides many ways to quickly and easily summarize your data:\n",
    "- How many rows and columns are there?\n",
    "- What are all the column names and what type of data is in each column?\n",
    "- How many values are missing in each column or row?\n",
    "- Numerical data: What is the average and range of the values?\n",
    "- Text data: What are the unique values and how often does each occur?"
   ]
  },
  {
   "cell_type": "markdown",
   "metadata": {
    "slideshow": {
     "slide_type": "fragment"
    }
   },
   "source": [
    "Number of rows and columns:"
   ]
  },
  {
   "cell_type": "code",
   "execution_count": 8,
   "metadata": {
    "slideshow": {
     "slide_type": "-"
    }
   },
   "outputs": [
    {
     "data": {
      "text/plain": [
       "(2492, 13)"
      ]
     },
     "execution_count": 8,
     "metadata": {},
     "output_type": "execute_result"
    }
   ],
   "source": [
    "world.shape"
   ]
  },
  {
   "cell_type": "markdown",
   "metadata": {
    "slideshow": {
     "slide_type": "fragment"
    }
   },
   "source": [
    "- The DataFrame `world` has 2492 rows and 14 columns\n",
    "- Notice there are no parentheses at the end of `world.shape`\n",
    "  - `shape` is a **data attribute** of the variable `world`"
   ]
  },
  {
   "cell_type": "markdown",
   "metadata": {
    "slideshow": {
     "slide_type": "fragment"
    }
   },
   "source": [
    "General information about the DataFrame can be obtained with the `info()` method:"
   ]
  },
  {
   "cell_type": "code",
   "execution_count": 9,
   "metadata": {
    "slideshow": {
     "slide_type": "-"
    }
   },
   "outputs": [
    {
     "name": "stdout",
     "output_type": "stream",
     "text": [
      "<class 'pandas.core.frame.DataFrame'>\n",
      "RangeIndex: 2492 entries, 0 to 2491\n",
      "Data columns (total 13 columns):\n",
      " #   Column                 Non-Null Count  Dtype  \n",
      "---  ------                 --------------  -----  \n",
      " 0   country                2492 non-null   object \n",
      " 1   year                   2492 non-null   int64  \n",
      " 2   population             2492 non-null   int64  \n",
      " 3   region                 2492 non-null   object \n",
      " 4   sub_region             2492 non-null   object \n",
      " 5   income_group           2492 non-null   object \n",
      " 6   life_expectancy        2492 non-null   float64\n",
      " 7   gdp_per_capita         2492 non-null   int64  \n",
      " 8   children_per_woman     2492 non-null   float64\n",
      " 9   child_mortality        2492 non-null   float64\n",
      " 10  pop_density            2492 non-null   float64\n",
      " 11  years_in_school_men    1780 non-null   float64\n",
      " 12  years_in_school_women  1780 non-null   float64\n",
      "dtypes: float64(6), int64(3), object(4)\n",
      "memory usage: 253.2+ KB\n"
     ]
    }
   ],
   "source": [
    "world.info()"
   ]
  },
  {
   "cell_type": "markdown",
   "metadata": {
    "slideshow": {
     "slide_type": "fragment"
    }
   },
   "source": [
    "- The columns in a data frame can contain data of different types, e.g. integers, floats, and objects (which includes strings, lists, dictionaries, and more)\n",
    "- The non-null count tells you if there are any missing values in a column (non-null count is less than the total number of rows)"
   ]
  },
  {
   "cell_type": "markdown",
   "metadata": {
    "slideshow": {
     "slide_type": "fragment"
    }
   },
   "source": [
    "If we just want a list of the column names, we can use the `columns` attribute:"
   ]
  },
  {
   "cell_type": "code",
   "execution_count": 10,
   "metadata": {
    "slideshow": {
     "slide_type": "-"
    }
   },
   "outputs": [
    {
     "data": {
      "text/plain": [
       "Index(['country', 'year', 'population', 'region', 'sub_region', 'income_group',\n",
       "       'life_expectancy', 'gdp_per_capita', 'children_per_woman',\n",
       "       'child_mortality', 'pop_density', 'years_in_school_men',\n",
       "       'years_in_school_women'],\n",
       "      dtype='object')"
      ]
     },
     "execution_count": 10,
     "metadata": {},
     "output_type": "execute_result"
    }
   ],
   "source": [
    "world.columns"
   ]
  },
  {
   "cell_type": "markdown",
   "metadata": {
    "slideshow": {
     "slide_type": "slide"
    }
   },
   "source": [
    "## Simple Summary Statistics\n",
    "\n",
    "The `describe()` method computes simple summary statistics for a DataFrame:"
   ]
  },
  {
   "cell_type": "code",
   "execution_count": 11,
   "metadata": {
    "slideshow": {
     "slide_type": "-"
    }
   },
   "outputs": [
    {
     "data": {
      "text/html": [
       "<div>\n",
       "<style scoped>\n",
       "    .dataframe tbody tr th:only-of-type {\n",
       "        vertical-align: middle;\n",
       "    }\n",
       "\n",
       "    .dataframe tbody tr th {\n",
       "        vertical-align: top;\n",
       "    }\n",
       "\n",
       "    .dataframe thead th {\n",
       "        text-align: right;\n",
       "    }\n",
       "</style>\n",
       "<table border=\"1\" class=\"dataframe\">\n",
       "  <thead>\n",
       "    <tr style=\"text-align: right;\">\n",
       "      <th></th>\n",
       "      <th>year</th>\n",
       "      <th>population</th>\n",
       "      <th>life_expectancy</th>\n",
       "      <th>gdp_per_capita</th>\n",
       "      <th>children_per_woman</th>\n",
       "      <th>child_mortality</th>\n",
       "      <th>pop_density</th>\n",
       "      <th>years_in_school_men</th>\n",
       "      <th>years_in_school_women</th>\n",
       "    </tr>\n",
       "  </thead>\n",
       "  <tbody>\n",
       "    <tr>\n",
       "      <th>count</th>\n",
       "      <td>2492.00000</td>\n",
       "      <td>2.492000e+03</td>\n",
       "      <td>2492.000000</td>\n",
       "      <td>2492.000000</td>\n",
       "      <td>2492.000000</td>\n",
       "      <td>2492.000000</td>\n",
       "      <td>2492.000000</td>\n",
       "      <td>1780.000000</td>\n",
       "      <td>1780.000000</td>\n",
       "    </tr>\n",
       "    <tr>\n",
       "      <th>mean</th>\n",
       "      <td>1982.50000</td>\n",
       "      <td>2.667661e+07</td>\n",
       "      <td>62.567135</td>\n",
       "      <td>10502.302167</td>\n",
       "      <td>4.353752</td>\n",
       "      <td>105.670024</td>\n",
       "      <td>118.014013</td>\n",
       "      <td>7.687713</td>\n",
       "      <td>6.959556</td>\n",
       "    </tr>\n",
       "    <tr>\n",
       "      <th>std</th>\n",
       "      <td>20.15969</td>\n",
       "      <td>1.037838e+08</td>\n",
       "      <td>11.518029</td>\n",
       "      <td>15478.942158</td>\n",
       "      <td>2.049655</td>\n",
       "      <td>98.615582</td>\n",
       "      <td>372.055683</td>\n",
       "      <td>3.242840</td>\n",
       "      <td>3.932678</td>\n",
       "    </tr>\n",
       "    <tr>\n",
       "      <th>min</th>\n",
       "      <td>1950.00000</td>\n",
       "      <td>2.500000e+04</td>\n",
       "      <td>23.800000</td>\n",
       "      <td>247.000000</td>\n",
       "      <td>1.120000</td>\n",
       "      <td>2.200000</td>\n",
       "      <td>0.502000</td>\n",
       "      <td>0.900000</td>\n",
       "      <td>0.210000</td>\n",
       "    </tr>\n",
       "    <tr>\n",
       "      <th>25%</th>\n",
       "      <td>1965.00000</td>\n",
       "      <td>1.730000e+06</td>\n",
       "      <td>54.200000</td>\n",
       "      <td>1930.000000</td>\n",
       "      <td>2.360000</td>\n",
       "      <td>24.000000</td>\n",
       "      <td>14.275000</td>\n",
       "      <td>5.097500</td>\n",
       "      <td>3.600000</td>\n",
       "    </tr>\n",
       "    <tr>\n",
       "      <th>50%</th>\n",
       "      <td>1982.50000</td>\n",
       "      <td>5.270000e+06</td>\n",
       "      <td>64.650000</td>\n",
       "      <td>4925.000000</td>\n",
       "      <td>4.340000</td>\n",
       "      <td>72.400000</td>\n",
       "      <td>44.850000</td>\n",
       "      <td>7.635000</td>\n",
       "      <td>6.990000</td>\n",
       "    </tr>\n",
       "    <tr>\n",
       "      <th>75%</th>\n",
       "      <td>2000.00000</td>\n",
       "      <td>1.600000e+07</td>\n",
       "      <td>71.600000</td>\n",
       "      <td>12700.000000</td>\n",
       "      <td>6.300000</td>\n",
       "      <td>167.000000</td>\n",
       "      <td>108.000000</td>\n",
       "      <td>10.100000</td>\n",
       "      <td>10.000000</td>\n",
       "    </tr>\n",
       "    <tr>\n",
       "      <th>max</th>\n",
       "      <td>2015.00000</td>\n",
       "      <td>1.400000e+09</td>\n",
       "      <td>83.800000</td>\n",
       "      <td>178000.000000</td>\n",
       "      <td>8.870000</td>\n",
       "      <td>473.000000</td>\n",
       "      <td>7910.000000</td>\n",
       "      <td>15.300000</td>\n",
       "      <td>15.700000</td>\n",
       "    </tr>\n",
       "  </tbody>\n",
       "</table>\n",
       "</div>"
      ],
      "text/plain": [
       "             year    population  life_expectancy  gdp_per_capita  \\\n",
       "count  2492.00000  2.492000e+03      2492.000000     2492.000000   \n",
       "mean   1982.50000  2.667661e+07        62.567135    10502.302167   \n",
       "std      20.15969  1.037838e+08        11.518029    15478.942158   \n",
       "min    1950.00000  2.500000e+04        23.800000      247.000000   \n",
       "25%    1965.00000  1.730000e+06        54.200000     1930.000000   \n",
       "50%    1982.50000  5.270000e+06        64.650000     4925.000000   \n",
       "75%    2000.00000  1.600000e+07        71.600000    12700.000000   \n",
       "max    2015.00000  1.400000e+09        83.800000   178000.000000   \n",
       "\n",
       "       children_per_woman  child_mortality  pop_density  years_in_school_men  \\\n",
       "count         2492.000000      2492.000000  2492.000000          1780.000000   \n",
       "mean             4.353752       105.670024   118.014013             7.687713   \n",
       "std              2.049655        98.615582   372.055683             3.242840   \n",
       "min              1.120000         2.200000     0.502000             0.900000   \n",
       "25%              2.360000        24.000000    14.275000             5.097500   \n",
       "50%              4.340000        72.400000    44.850000             7.635000   \n",
       "75%              6.300000       167.000000   108.000000            10.100000   \n",
       "max              8.870000       473.000000  7910.000000            15.300000   \n",
       "\n",
       "       years_in_school_women  \n",
       "count            1780.000000  \n",
       "mean                6.959556  \n",
       "std                 3.932678  \n",
       "min                 0.210000  \n",
       "25%                 3.600000  \n",
       "50%                 6.990000  \n",
       "75%                10.000000  \n",
       "max                15.700000  "
      ]
     },
     "execution_count": 11,
     "metadata": {},
     "output_type": "execute_result"
    }
   ],
   "source": [
    "world.describe()"
   ]
  },
  {
   "cell_type": "markdown",
   "metadata": {
    "slideshow": {
     "slide_type": "fragment"
    }
   },
   "source": [
    "The `describe()` method is a convenient way to quickly summarize the averages, extremes, and variability of each numerical data column."
   ]
  },
  {
   "cell_type": "markdown",
   "metadata": {
    "slideshow": {
     "slide_type": "fragment"
    }
   },
   "source": [
    "You can look at each statistic individually with methods such as `mean()`, `median()`, `min()`, `max()`,`std()`, and `count()`"
   ]
  },
  {
   "cell_type": "markdown",
   "metadata": {
    "slideshow": {
     "slide_type": "slide"
    }
   },
   "source": [
    "## Exercise 1.1\n",
    "\n",
    "a) Initial setup (you can skip to part b if you've already done this):\n",
    "  - Import the `pandas` library\n",
    "  - Use `pandas.read_csv()` to read data from `'https://raw.githubusercontent.com/jenfly/datajam-python/master/data/gapminder.csv'` and store it in a DataFrame called `world`.\n",
    "\n",
    "b) Based on the output of `world.info()`, what data type is the `pop_density` column?\n",
    "\n",
    "c) Based on the output of `world.describe()`, what are the minimum and maximum years in this data?\n",
    "\n",
    "> For b) and c) you can create a Markdown cell in your notebook and write your answer there."
   ]
  },
  {
   "cell_type": "code",
   "execution_count": null,
   "metadata": {
    "slideshow": {
     "slide_type": "fragment"
    }
   },
   "outputs": [],
   "source": []
  },
  {
   "cell_type": "markdown",
   "metadata": {
    "slideshow": {
     "slide_type": "slide"
    }
   },
   "source": [
    "## Break Time!"
   ]
  },
  {
   "cell_type": "markdown",
   "metadata": {
    "slideshow": {
     "slide_type": "slide"
    }
   },
   "source": [
    "## Saving to CSV\n",
    "\n",
    "We can save our data locally to a CSV file using the `to_csv()` method:"
   ]
  },
  {
   "cell_type": "code",
   "execution_count": 12,
   "metadata": {
    "slideshow": {
     "slide_type": "fragment"
    }
   },
   "outputs": [],
   "source": [
    "world.to_csv('data/gapminder_world_data.csv', index=False)"
   ]
  },
  {
   "cell_type": "markdown",
   "metadata": {},
   "source": [
    "- This creates a file called `gapminder_world_data.csv` within the `data` sub-folder\n",
    "\n",
    "- By default, the `to_csv()` method will save the DataFrame's index as an additional column in the CSV file. To turn this off, we use the keyword argument `index=False`."
   ]
  },
  {
   "cell_type": "markdown",
   "metadata": {
    "slideshow": {
     "slide_type": "fragment"
    }
   },
   "source": [
    "Let's check out our new file in the JupyterLab CSV viewer!"
   ]
  },
  {
   "cell_type": "markdown",
   "metadata": {
    "slideshow": {
     "slide_type": "fragment"
    }
   },
   "source": [
    "Now that the data is saved locally, it can be loaded from the local path instead of downloading from the URL:"
   ]
  },
  {
   "cell_type": "code",
   "execution_count": 13,
   "metadata": {},
   "outputs": [
    {
     "data": {
      "text/html": [
       "<div>\n",
       "<style scoped>\n",
       "    .dataframe tbody tr th:only-of-type {\n",
       "        vertical-align: middle;\n",
       "    }\n",
       "\n",
       "    .dataframe tbody tr th {\n",
       "        vertical-align: top;\n",
       "    }\n",
       "\n",
       "    .dataframe thead th {\n",
       "        text-align: right;\n",
       "    }\n",
       "</style>\n",
       "<table border=\"1\" class=\"dataframe\">\n",
       "  <thead>\n",
       "    <tr style=\"text-align: right;\">\n",
       "      <th></th>\n",
       "      <th>country</th>\n",
       "      <th>year</th>\n",
       "      <th>population</th>\n",
       "      <th>region</th>\n",
       "      <th>sub_region</th>\n",
       "      <th>income_group</th>\n",
       "      <th>life_expectancy</th>\n",
       "      <th>gdp_per_capita</th>\n",
       "      <th>children_per_woman</th>\n",
       "      <th>child_mortality</th>\n",
       "      <th>pop_density</th>\n",
       "      <th>years_in_school_men</th>\n",
       "      <th>years_in_school_women</th>\n",
       "    </tr>\n",
       "  </thead>\n",
       "  <tbody>\n",
       "    <tr>\n",
       "      <th>0</th>\n",
       "      <td>Afghanistan</td>\n",
       "      <td>1950</td>\n",
       "      <td>7750000</td>\n",
       "      <td>Asia</td>\n",
       "      <td>Southern Asia</td>\n",
       "      <td>Low</td>\n",
       "      <td>32.0</td>\n",
       "      <td>1040</td>\n",
       "      <td>7.57</td>\n",
       "      <td>425.0</td>\n",
       "      <td>11.9</td>\n",
       "      <td>NaN</td>\n",
       "      <td>NaN</td>\n",
       "    </tr>\n",
       "    <tr>\n",
       "      <th>1</th>\n",
       "      <td>Afghanistan</td>\n",
       "      <td>1955</td>\n",
       "      <td>8270000</td>\n",
       "      <td>Asia</td>\n",
       "      <td>Southern Asia</td>\n",
       "      <td>Low</td>\n",
       "      <td>35.1</td>\n",
       "      <td>1130</td>\n",
       "      <td>7.52</td>\n",
       "      <td>394.0</td>\n",
       "      <td>12.7</td>\n",
       "      <td>NaN</td>\n",
       "      <td>NaN</td>\n",
       "    </tr>\n",
       "    <tr>\n",
       "      <th>2</th>\n",
       "      <td>Afghanistan</td>\n",
       "      <td>1960</td>\n",
       "      <td>9000000</td>\n",
       "      <td>Asia</td>\n",
       "      <td>Southern Asia</td>\n",
       "      <td>Low</td>\n",
       "      <td>38.6</td>\n",
       "      <td>1210</td>\n",
       "      <td>7.45</td>\n",
       "      <td>364.0</td>\n",
       "      <td>13.8</td>\n",
       "      <td>NaN</td>\n",
       "      <td>NaN</td>\n",
       "    </tr>\n",
       "    <tr>\n",
       "      <th>3</th>\n",
       "      <td>Afghanistan</td>\n",
       "      <td>1965</td>\n",
       "      <td>9940000</td>\n",
       "      <td>Asia</td>\n",
       "      <td>Southern Asia</td>\n",
       "      <td>Low</td>\n",
       "      <td>42.2</td>\n",
       "      <td>1190</td>\n",
       "      <td>7.45</td>\n",
       "      <td>334.0</td>\n",
       "      <td>15.2</td>\n",
       "      <td>NaN</td>\n",
       "      <td>NaN</td>\n",
       "    </tr>\n",
       "    <tr>\n",
       "      <th>4</th>\n",
       "      <td>Afghanistan</td>\n",
       "      <td>1970</td>\n",
       "      <td>11100000</td>\n",
       "      <td>Asia</td>\n",
       "      <td>Southern Asia</td>\n",
       "      <td>Low</td>\n",
       "      <td>45.8</td>\n",
       "      <td>1180</td>\n",
       "      <td>7.45</td>\n",
       "      <td>306.0</td>\n",
       "      <td>17.0</td>\n",
       "      <td>1.36</td>\n",
       "      <td>0.21</td>\n",
       "    </tr>\n",
       "  </tbody>\n",
       "</table>\n",
       "</div>"
      ],
      "text/plain": [
       "       country  year  population region     sub_region income_group  \\\n",
       "0  Afghanistan  1950     7750000   Asia  Southern Asia          Low   \n",
       "1  Afghanistan  1955     8270000   Asia  Southern Asia          Low   \n",
       "2  Afghanistan  1960     9000000   Asia  Southern Asia          Low   \n",
       "3  Afghanistan  1965     9940000   Asia  Southern Asia          Low   \n",
       "4  Afghanistan  1970    11100000   Asia  Southern Asia          Low   \n",
       "\n",
       "   life_expectancy  gdp_per_capita  children_per_woman  child_mortality  \\\n",
       "0             32.0            1040                7.57            425.0   \n",
       "1             35.1            1130                7.52            394.0   \n",
       "2             38.6            1210                7.45            364.0   \n",
       "3             42.2            1190                7.45            334.0   \n",
       "4             45.8            1180                7.45            306.0   \n",
       "\n",
       "   pop_density  years_in_school_men  years_in_school_women  \n",
       "0         11.9                  NaN                    NaN  \n",
       "1         12.7                  NaN                    NaN  \n",
       "2         13.8                  NaN                    NaN  \n",
       "3         15.2                  NaN                    NaN  \n",
       "4         17.0                 1.36                   0.21  "
      ]
     },
     "execution_count": 13,
     "metadata": {},
     "output_type": "execute_result"
    }
   ],
   "source": [
    "world2 = pandas.read_csv('data/gapminder_world_data.csv')\n",
    "world2.head()"
   ]
  },
  {
   "cell_type": "markdown",
   "metadata": {
    "slideshow": {
     "slide_type": "slide"
    }
   },
   "source": [
    "## Selecting Columns\n",
    "\n",
    "Similar to a dictionary, we can index a specific column of a DataFrame using the column name inside square brackets:\n",
    "> Pro Tip: In Jupyter notebooks, auto-complete works for DataFrame column names!"
   ]
  },
  {
   "cell_type": "code",
   "execution_count": 14,
   "metadata": {
    "slideshow": {
     "slide_type": "-"
    }
   },
   "outputs": [
    {
     "data": {
      "text/plain": [
       "0       1950\n",
       "1       1955\n",
       "2       1960\n",
       "3       1965\n",
       "4       1970\n",
       "        ... \n",
       "2487    1995\n",
       "2488    2000\n",
       "2489    2005\n",
       "2490    2010\n",
       "2491    2015\n",
       "Name: year, Length: 2492, dtype: int64"
      ]
     },
     "execution_count": 14,
     "metadata": {},
     "output_type": "execute_result"
    }
   ],
   "source": [
    "world['year']"
   ]
  },
  {
   "cell_type": "markdown",
   "metadata": {
    "slideshow": {
     "slide_type": "fragment"
    }
   },
   "source": [
    "> Note: The numbers on the left are the DataFrame's index, which was automatically added by `pandas` when the data was loaded"
   ]
  },
  {
   "cell_type": "markdown",
   "metadata": {
    "slideshow": {
     "slide_type": "fragment"
    }
   },
   "source": [
    "What type of object is this?"
   ]
  },
  {
   "cell_type": "code",
   "execution_count": 15,
   "metadata": {
    "slideshow": {
     "slide_type": "-"
    }
   },
   "outputs": [
    {
     "data": {
      "text/plain": [
       "pandas.core.series.Series"
      ]
     },
     "execution_count": 15,
     "metadata": {},
     "output_type": "execute_result"
    }
   ],
   "source": [
    "type(world['year'])"
   ]
  },
  {
   "cell_type": "markdown",
   "metadata": {
    "slideshow": {
     "slide_type": "fragment"
    }
   },
   "source": [
    "It's a Series, another data structure from the `pandas` library.\n",
    "\n",
    "- **DataFrame:** 2-dimensional array, like a table in a spreadsheet\n",
    "- **Series:** 1-dimensional array, like a single column or row in a spreadsheet\n",
    "  - Each individual column or row of a DataFrame is represented as a Series"
   ]
  },
  {
   "cell_type": "markdown",
   "metadata": {
    "slideshow": {
     "slide_type": "fragment"
    }
   },
   "source": [
    "Many of the methods we use on a DataFrame can also be used on a Series, and vice versa"
   ]
  },
  {
   "cell_type": "code",
   "execution_count": 16,
   "metadata": {},
   "outputs": [
    {
     "data": {
      "text/plain": [
       "0    1950\n",
       "1    1955\n",
       "2    1960\n",
       "3    1965\n",
       "4    1970\n",
       "Name: year, dtype: int64"
      ]
     },
     "execution_count": 16,
     "metadata": {},
     "output_type": "execute_result"
    }
   ],
   "source": [
    "world['year'].head()"
   ]
  },
  {
   "cell_type": "markdown",
   "metadata": {
    "slideshow": {
     "slide_type": "fragment"
    }
   },
   "source": [
    "- Columns can also be selected using attribute notation (e.g. `world.year`)\n",
    "- Using brackets is clearer and also allows for selecting multiple columns with a list, so this lesson will stick to that."
   ]
  },
  {
   "cell_type": "markdown",
   "metadata": {
    "slideshow": {
     "slide_type": "fragment"
    }
   },
   "source": [
    "Select multiple columns:"
   ]
  },
  {
   "cell_type": "code",
   "execution_count": 17,
   "metadata": {
    "slideshow": {
     "slide_type": "-"
    }
   },
   "outputs": [
    {
     "data": {
      "text/html": [
       "<div>\n",
       "<style scoped>\n",
       "    .dataframe tbody tr th:only-of-type {\n",
       "        vertical-align: middle;\n",
       "    }\n",
       "\n",
       "    .dataframe tbody tr th {\n",
       "        vertical-align: top;\n",
       "    }\n",
       "\n",
       "    .dataframe thead th {\n",
       "        text-align: right;\n",
       "    }\n",
       "</style>\n",
       "<table border=\"1\" class=\"dataframe\">\n",
       "  <thead>\n",
       "    <tr style=\"text-align: right;\">\n",
       "      <th></th>\n",
       "      <th>country</th>\n",
       "      <th>year</th>\n",
       "    </tr>\n",
       "  </thead>\n",
       "  <tbody>\n",
       "    <tr>\n",
       "      <th>0</th>\n",
       "      <td>Afghanistan</td>\n",
       "      <td>1950</td>\n",
       "    </tr>\n",
       "    <tr>\n",
       "      <th>1</th>\n",
       "      <td>Afghanistan</td>\n",
       "      <td>1955</td>\n",
       "    </tr>\n",
       "    <tr>\n",
       "      <th>2</th>\n",
       "      <td>Afghanistan</td>\n",
       "      <td>1960</td>\n",
       "    </tr>\n",
       "    <tr>\n",
       "      <th>3</th>\n",
       "      <td>Afghanistan</td>\n",
       "      <td>1965</td>\n",
       "    </tr>\n",
       "    <tr>\n",
       "      <th>4</th>\n",
       "      <td>Afghanistan</td>\n",
       "      <td>1970</td>\n",
       "    </tr>\n",
       "    <tr>\n",
       "      <th>...</th>\n",
       "      <td>...</td>\n",
       "      <td>...</td>\n",
       "    </tr>\n",
       "    <tr>\n",
       "      <th>2487</th>\n",
       "      <td>Zimbabwe</td>\n",
       "      <td>1995</td>\n",
       "    </tr>\n",
       "    <tr>\n",
       "      <th>2488</th>\n",
       "      <td>Zimbabwe</td>\n",
       "      <td>2000</td>\n",
       "    </tr>\n",
       "    <tr>\n",
       "      <th>2489</th>\n",
       "      <td>Zimbabwe</td>\n",
       "      <td>2005</td>\n",
       "    </tr>\n",
       "    <tr>\n",
       "      <th>2490</th>\n",
       "      <td>Zimbabwe</td>\n",
       "      <td>2010</td>\n",
       "    </tr>\n",
       "    <tr>\n",
       "      <th>2491</th>\n",
       "      <td>Zimbabwe</td>\n",
       "      <td>2015</td>\n",
       "    </tr>\n",
       "  </tbody>\n",
       "</table>\n",
       "<p>2492 rows × 2 columns</p>\n",
       "</div>"
      ],
      "text/plain": [
       "          country  year\n",
       "0     Afghanistan  1950\n",
       "1     Afghanistan  1955\n",
       "2     Afghanistan  1960\n",
       "3     Afghanistan  1965\n",
       "4     Afghanistan  1970\n",
       "...           ...   ...\n",
       "2487     Zimbabwe  1995\n",
       "2488     Zimbabwe  2000\n",
       "2489     Zimbabwe  2005\n",
       "2490     Zimbabwe  2010\n",
       "2491     Zimbabwe  2015\n",
       "\n",
       "[2492 rows x 2 columns]"
      ]
     },
     "execution_count": 17,
     "metadata": {},
     "output_type": "execute_result"
    }
   ],
   "source": [
    "world[['country', 'year']]"
   ]
  },
  {
   "cell_type": "markdown",
   "metadata": {
    "slideshow": {
     "slide_type": "fragment"
    }
   },
   "source": [
    "Note the double square brackets!\n",
    "- These are required because we need both:\n",
    "  - A pair of square brackets to extract the subset, AND\n",
    "  - A pair of square brackets to define the list of columns to select."
   ]
  },
  {
   "cell_type": "markdown",
   "metadata": {
    "slideshow": {
     "slide_type": "fragment"
    }
   },
   "source": [
    "When you select more than one column, the output is a DataFrame:"
   ]
  },
  {
   "cell_type": "code",
   "execution_count": 18,
   "metadata": {
    "slideshow": {
     "slide_type": "-"
    }
   },
   "outputs": [
    {
     "data": {
      "text/plain": [
       "pandas.core.frame.DataFrame"
      ]
     },
     "execution_count": 18,
     "metadata": {},
     "output_type": "execute_result"
    }
   ],
   "source": [
    "type(world[['country', 'year']])"
   ]
  },
  {
   "cell_type": "markdown",
   "metadata": {
    "slideshow": {
     "slide_type": "fragment"
    }
   },
   "source": [
    "If you'll be frequently using a particular subset, it's often helpful to assign it to a separate variable"
   ]
  },
  {
   "cell_type": "code",
   "execution_count": 19,
   "metadata": {
    "slideshow": {
     "slide_type": "-"
    }
   },
   "outputs": [
    {
     "data": {
      "text/html": [
       "<div>\n",
       "<style scoped>\n",
       "    .dataframe tbody tr th:only-of-type {\n",
       "        vertical-align: middle;\n",
       "    }\n",
       "\n",
       "    .dataframe tbody tr th {\n",
       "        vertical-align: top;\n",
       "    }\n",
       "\n",
       "    .dataframe thead th {\n",
       "        text-align: right;\n",
       "    }\n",
       "</style>\n",
       "<table border=\"1\" class=\"dataframe\">\n",
       "  <thead>\n",
       "    <tr style=\"text-align: right;\">\n",
       "      <th></th>\n",
       "      <th>country</th>\n",
       "      <th>year</th>\n",
       "      <th>population</th>\n",
       "    </tr>\n",
       "  </thead>\n",
       "  <tbody>\n",
       "    <tr>\n",
       "      <th>0</th>\n",
       "      <td>Afghanistan</td>\n",
       "      <td>1950</td>\n",
       "      <td>7750000</td>\n",
       "    </tr>\n",
       "    <tr>\n",
       "      <th>1</th>\n",
       "      <td>Afghanistan</td>\n",
       "      <td>1955</td>\n",
       "      <td>8270000</td>\n",
       "    </tr>\n",
       "    <tr>\n",
       "      <th>2</th>\n",
       "      <td>Afghanistan</td>\n",
       "      <td>1960</td>\n",
       "      <td>9000000</td>\n",
       "    </tr>\n",
       "    <tr>\n",
       "      <th>3</th>\n",
       "      <td>Afghanistan</td>\n",
       "      <td>1965</td>\n",
       "      <td>9940000</td>\n",
       "    </tr>\n",
       "    <tr>\n",
       "      <th>4</th>\n",
       "      <td>Afghanistan</td>\n",
       "      <td>1970</td>\n",
       "      <td>11100000</td>\n",
       "    </tr>\n",
       "  </tbody>\n",
       "</table>\n",
       "</div>"
      ],
      "text/plain": [
       "       country  year  population\n",
       "0  Afghanistan  1950     7750000\n",
       "1  Afghanistan  1955     8270000\n",
       "2  Afghanistan  1960     9000000\n",
       "3  Afghanistan  1965     9940000\n",
       "4  Afghanistan  1970    11100000"
      ]
     },
     "execution_count": 19,
     "metadata": {},
     "output_type": "execute_result"
    }
   ],
   "source": [
    "populations = world[['country', 'year', 'population']]\n",
    "populations.head()"
   ]
  },
  {
   "cell_type": "code",
   "execution_count": 20,
   "metadata": {
    "slideshow": {
     "slide_type": "fragment"
    }
   },
   "outputs": [
    {
     "data": {
      "text/html": [
       "<div>\n",
       "<style scoped>\n",
       "    .dataframe tbody tr th:only-of-type {\n",
       "        vertical-align: middle;\n",
       "    }\n",
       "\n",
       "    .dataframe tbody tr th {\n",
       "        vertical-align: top;\n",
       "    }\n",
       "\n",
       "    .dataframe thead th {\n",
       "        text-align: right;\n",
       "    }\n",
       "</style>\n",
       "<table border=\"1\" class=\"dataframe\">\n",
       "  <thead>\n",
       "    <tr style=\"text-align: right;\">\n",
       "      <th></th>\n",
       "      <th>year</th>\n",
       "      <th>population</th>\n",
       "    </tr>\n",
       "  </thead>\n",
       "  <tbody>\n",
       "    <tr>\n",
       "      <th>count</th>\n",
       "      <td>2492.00000</td>\n",
       "      <td>2.492000e+03</td>\n",
       "    </tr>\n",
       "    <tr>\n",
       "      <th>mean</th>\n",
       "      <td>1982.50000</td>\n",
       "      <td>2.667661e+07</td>\n",
       "    </tr>\n",
       "    <tr>\n",
       "      <th>std</th>\n",
       "      <td>20.15969</td>\n",
       "      <td>1.037838e+08</td>\n",
       "    </tr>\n",
       "    <tr>\n",
       "      <th>min</th>\n",
       "      <td>1950.00000</td>\n",
       "      <td>2.500000e+04</td>\n",
       "    </tr>\n",
       "    <tr>\n",
       "      <th>25%</th>\n",
       "      <td>1965.00000</td>\n",
       "      <td>1.730000e+06</td>\n",
       "    </tr>\n",
       "    <tr>\n",
       "      <th>50%</th>\n",
       "      <td>1982.50000</td>\n",
       "      <td>5.270000e+06</td>\n",
       "    </tr>\n",
       "    <tr>\n",
       "      <th>75%</th>\n",
       "      <td>2000.00000</td>\n",
       "      <td>1.600000e+07</td>\n",
       "    </tr>\n",
       "    <tr>\n",
       "      <th>max</th>\n",
       "      <td>2015.00000</td>\n",
       "      <td>1.400000e+09</td>\n",
       "    </tr>\n",
       "  </tbody>\n",
       "</table>\n",
       "</div>"
      ],
      "text/plain": [
       "             year    population\n",
       "count  2492.00000  2.492000e+03\n",
       "mean   1982.50000  2.667661e+07\n",
       "std      20.15969  1.037838e+08\n",
       "min    1950.00000  2.500000e+04\n",
       "25%    1965.00000  1.730000e+06\n",
       "50%    1982.50000  5.270000e+06\n",
       "75%    2000.00000  1.600000e+07\n",
       "max    2015.00000  1.400000e+09"
      ]
     },
     "execution_count": 20,
     "metadata": {},
     "output_type": "execute_result"
    }
   ],
   "source": [
    "populations.describe()"
   ]
  },
  {
   "cell_type": "markdown",
   "metadata": {
    "slideshow": {
     "slide_type": "fragment"
    }
   },
   "source": [
    "When selecting a larger number of columns, you may want to define the list of column names as a separate variable"
   ]
  },
  {
   "cell_type": "code",
   "execution_count": 21,
   "metadata": {
    "slideshow": {
     "slide_type": "-"
    }
   },
   "outputs": [
    {
     "data": {
      "text/html": [
       "<div>\n",
       "<style scoped>\n",
       "    .dataframe tbody tr th:only-of-type {\n",
       "        vertical-align: middle;\n",
       "    }\n",
       "\n",
       "    .dataframe tbody tr th {\n",
       "        vertical-align: top;\n",
       "    }\n",
       "\n",
       "    .dataframe thead th {\n",
       "        text-align: right;\n",
       "    }\n",
       "</style>\n",
       "<table border=\"1\" class=\"dataframe\">\n",
       "  <thead>\n",
       "    <tr style=\"text-align: right;\">\n",
       "      <th></th>\n",
       "      <th>country</th>\n",
       "      <th>region</th>\n",
       "      <th>year</th>\n",
       "      <th>population</th>\n",
       "      <th>life_expectancy</th>\n",
       "    </tr>\n",
       "  </thead>\n",
       "  <tbody>\n",
       "    <tr>\n",
       "      <th>0</th>\n",
       "      <td>Afghanistan</td>\n",
       "      <td>Asia</td>\n",
       "      <td>1950</td>\n",
       "      <td>7750000</td>\n",
       "      <td>32.0</td>\n",
       "    </tr>\n",
       "    <tr>\n",
       "      <th>1</th>\n",
       "      <td>Afghanistan</td>\n",
       "      <td>Asia</td>\n",
       "      <td>1955</td>\n",
       "      <td>8270000</td>\n",
       "      <td>35.1</td>\n",
       "    </tr>\n",
       "    <tr>\n",
       "      <th>2</th>\n",
       "      <td>Afghanistan</td>\n",
       "      <td>Asia</td>\n",
       "      <td>1960</td>\n",
       "      <td>9000000</td>\n",
       "      <td>38.6</td>\n",
       "    </tr>\n",
       "    <tr>\n",
       "      <th>3</th>\n",
       "      <td>Afghanistan</td>\n",
       "      <td>Asia</td>\n",
       "      <td>1965</td>\n",
       "      <td>9940000</td>\n",
       "      <td>42.2</td>\n",
       "    </tr>\n",
       "    <tr>\n",
       "      <th>4</th>\n",
       "      <td>Afghanistan</td>\n",
       "      <td>Asia</td>\n",
       "      <td>1970</td>\n",
       "      <td>11100000</td>\n",
       "      <td>45.8</td>\n",
       "    </tr>\n",
       "  </tbody>\n",
       "</table>\n",
       "</div>"
      ],
      "text/plain": [
       "       country region  year  population  life_expectancy\n",
       "0  Afghanistan   Asia  1950     7750000             32.0\n",
       "1  Afghanistan   Asia  1955     8270000             35.1\n",
       "2  Afghanistan   Asia  1960     9000000             38.6\n",
       "3  Afghanistan   Asia  1965     9940000             42.2\n",
       "4  Afghanistan   Asia  1970    11100000             45.8"
      ]
     },
     "execution_count": 21,
     "metadata": {},
     "output_type": "execute_result"
    }
   ],
   "source": [
    "subset_columns = ['country', 'region', 'year', 'population', 'life_expectancy']\n",
    "world_subset = world[subset_columns]\n",
    "world_subset.head()"
   ]
  },
  {
   "cell_type": "markdown",
   "metadata": {
    "slideshow": {
     "slide_type": "slide"
    }
   },
   "source": [
    "## Bonus: Unique Values in a Column\n",
    "\n",
    "A helpful way to summarize categorical data (such as names of countries and regions) is use the `value_counts()` method to count the unique values in that column:"
   ]
  },
  {
   "cell_type": "code",
   "execution_count": 22,
   "metadata": {
    "slideshow": {
     "slide_type": "-"
    }
   },
   "outputs": [
    {
     "data": {
      "text/plain": [
       "Sub-Saharan Africa                 644\n",
       "Latin America and the Caribbean    406\n",
       "Western Asia                       252\n",
       "Southern Europe                    168\n",
       "South-eastern Asia                 140\n",
       "Eastern Europe                     140\n",
       "Northern Europe                    140\n",
       "Southern Asia                      126\n",
       "Western Europe                      98\n",
       "Northern Africa                     84\n",
       "Eastern Asia                        70\n",
       "Central Asia                        70\n",
       "Melanesia                           56\n",
       "Australia and New Zealand           28\n",
       "Northern America                    28\n",
       "Polynesia                           28\n",
       "Micronesia                          14\n",
       "Name: sub_region, dtype: int64"
      ]
     },
     "execution_count": 22,
     "metadata": {},
     "output_type": "execute_result"
    }
   ],
   "source": [
    "world['sub_region'].value_counts()"
   ]
  },
  {
   "cell_type": "markdown",
   "metadata": {
    "slideshow": {
     "slide_type": "-"
    }
   },
   "source": [
    "The output above tells us, for example, that 644 of the observations in our data are for Sub-Saharan Africa (recall that each row is an observation corresponding to a single country in a single year).\n",
    "\n",
    "- By default, `value_counts()` sorts the output from highest count to lowest\n",
    "- To sort by the sub-region name, we can chain the `sort_index()` method"
   ]
  },
  {
   "cell_type": "code",
   "execution_count": 23,
   "metadata": {
    "slideshow": {
     "slide_type": "-"
    }
   },
   "outputs": [
    {
     "data": {
      "text/plain": [
       "Australia and New Zealand           28\n",
       "Central Asia                        70\n",
       "Eastern Asia                        70\n",
       "Eastern Europe                     140\n",
       "Latin America and the Caribbean    406\n",
       "Melanesia                           56\n",
       "Micronesia                          14\n",
       "Northern Africa                     84\n",
       "Northern America                    28\n",
       "Northern Europe                    140\n",
       "Polynesia                           28\n",
       "South-eastern Asia                 140\n",
       "Southern Asia                      126\n",
       "Southern Europe                    168\n",
       "Sub-Saharan Africa                 644\n",
       "Western Asia                       252\n",
       "Western Europe                      98\n",
       "Name: sub_region, dtype: int64"
      ]
     },
     "execution_count": 23,
     "metadata": {},
     "output_type": "execute_result"
    }
   ],
   "source": [
    "world['sub_region'].value_counts().sort_index()"
   ]
  },
  {
   "cell_type": "markdown",
   "metadata": {
    "slideshow": {
     "slide_type": "-"
    }
   },
   "source": [
    "If we just want a list of unique values, we can use the `unique()` method:"
   ]
  },
  {
   "cell_type": "code",
   "execution_count": 24,
   "metadata": {
    "slideshow": {
     "slide_type": "-"
    }
   },
   "outputs": [
    {
     "data": {
      "text/plain": [
       "array(['Southern Asia', 'Southern Europe', 'Northern Africa',\n",
       "       'Sub-Saharan Africa', 'Latin America and the Caribbean',\n",
       "       'Western Asia', 'Australia and New Zealand', 'Western Europe',\n",
       "       'Eastern Europe', 'South-eastern Asia', 'Northern America',\n",
       "       'Eastern Asia', 'Northern Europe', 'Melanesia', 'Central Asia',\n",
       "       'Micronesia', 'Polynesia'], dtype=object)"
      ]
     },
     "execution_count": 24,
     "metadata": {},
     "output_type": "execute_result"
    }
   ],
   "source": [
    "world['sub_region'].unique()"
   ]
  },
  {
   "cell_type": "markdown",
   "metadata": {
    "slideshow": {
     "slide_type": "-"
    }
   },
   "source": [
    "If we just want the number of unique values, we can use the `nunique()` method:"
   ]
  },
  {
   "cell_type": "code",
   "execution_count": 25,
   "metadata": {
    "slideshow": {
     "slide_type": "-"
    }
   },
   "outputs": [
    {
     "data": {
      "text/plain": [
       "17"
      ]
     },
     "execution_count": 25,
     "metadata": {},
     "output_type": "execute_result"
    }
   ],
   "source": [
    "world['sub_region'].nunique()"
   ]
  },
  {
   "cell_type": "markdown",
   "metadata": {
    "slideshow": {
     "slide_type": "slide"
    }
   },
   "source": [
    "## Selecting Rows\n",
    "\n",
    "We can extract rows from a DataFrame or Series based on a criteria\n",
    "- Similar to applying a filter in Excel"
   ]
  },
  {
   "cell_type": "markdown",
   "metadata": {
    "slideshow": {
     "slide_type": "fragment"
    }
   },
   "source": [
    "For example, suppose we want to select the rows where the life expectancy is greater than 82 years\n",
    "\n",
    "First we use the comparison operator `>` on the `life_expectancy` column:"
   ]
  },
  {
   "cell_type": "code",
   "execution_count": 26,
   "metadata": {
    "slideshow": {
     "slide_type": "-"
    }
   },
   "outputs": [
    {
     "data": {
      "text/plain": [
       "0       False\n",
       "1       False\n",
       "2       False\n",
       "3       False\n",
       "4       False\n",
       "        ...  \n",
       "2487    False\n",
       "2488    False\n",
       "2489    False\n",
       "2490    False\n",
       "2491    False\n",
       "Name: life_expectancy, Length: 2492, dtype: bool"
      ]
     },
     "execution_count": 26,
     "metadata": {},
     "output_type": "execute_result"
    }
   ],
   "source": [
    "world['life_expectancy'] > 82"
   ]
  },
  {
   "cell_type": "markdown",
   "metadata": {
    "slideshow": {
     "slide_type": "fragment"
    }
   },
   "source": [
    "The result is a Series with a Boolean value for each row in the data frame indicating whether it is `True` or `False` that this row has a value above 82 in the column `life_expectancy`."
   ]
  },
  {
   "cell_type": "markdown",
   "metadata": {
    "slideshow": {
     "slide_type": "fragment"
    }
   },
   "source": [
    "We can find out how many rows match this condition using the `sum()` method\n",
    "- `True` is treated as 1 and `False` as 0."
   ]
  },
  {
   "cell_type": "code",
   "execution_count": 27,
   "metadata": {
    "slideshow": {
     "slide_type": "-"
    }
   },
   "outputs": [
    {
     "data": {
      "text/plain": [
       "13"
      ]
     },
     "execution_count": 27,
     "metadata": {},
     "output_type": "execute_result"
    }
   ],
   "source": [
    "above_82 = world['life_expectancy'] > 82\n",
    "above_82.sum()"
   ]
  },
  {
   "cell_type": "markdown",
   "metadata": {
    "slideshow": {
     "slide_type": "fragment"
    }
   },
   "source": [
    "We can use a Boolean Series as a **filter** to extract the rows of `world` which have life expectancy above 82\n",
    "- Previously we used square brackets and a column name or list of column names to extract *column(s)* from a DataFrame (e.g. `df['X']`)\n",
    "- Now we use square brackets and a Boolean Series to extract *rows* from a DataFrame"
   ]
  },
  {
   "cell_type": "code",
   "execution_count": 28,
   "metadata": {},
   "outputs": [
    {
     "data": {
      "text/html": [
       "<div>\n",
       "<style scoped>\n",
       "    .dataframe tbody tr th:only-of-type {\n",
       "        vertical-align: middle;\n",
       "    }\n",
       "\n",
       "    .dataframe tbody tr th {\n",
       "        vertical-align: top;\n",
       "    }\n",
       "\n",
       "    .dataframe thead th {\n",
       "        text-align: right;\n",
       "    }\n",
       "</style>\n",
       "<table border=\"1\" class=\"dataframe\">\n",
       "  <thead>\n",
       "    <tr style=\"text-align: right;\">\n",
       "      <th></th>\n",
       "      <th>country</th>\n",
       "      <th>year</th>\n",
       "      <th>population</th>\n",
       "      <th>region</th>\n",
       "      <th>sub_region</th>\n",
       "      <th>income_group</th>\n",
       "      <th>life_expectancy</th>\n",
       "      <th>gdp_per_capita</th>\n",
       "      <th>children_per_woman</th>\n",
       "      <th>child_mortality</th>\n",
       "      <th>pop_density</th>\n",
       "      <th>years_in_school_men</th>\n",
       "      <th>years_in_school_women</th>\n",
       "    </tr>\n",
       "  </thead>\n",
       "  <tbody>\n",
       "    <tr>\n",
       "      <th>111</th>\n",
       "      <td>Australia</td>\n",
       "      <td>2015</td>\n",
       "      <td>23800000</td>\n",
       "      <td>Oceania</td>\n",
       "      <td>Australia and New Zealand</td>\n",
       "      <td>High</td>\n",
       "      <td>82.6</td>\n",
       "      <td>43800</td>\n",
       "      <td>1.86</td>\n",
       "      <td>3.8</td>\n",
       "      <td>3.10</td>\n",
       "      <td>14.2</td>\n",
       "      <td>14.5</td>\n",
       "    </tr>\n",
       "    <tr>\n",
       "      <th>783</th>\n",
       "      <td>France</td>\n",
       "      <td>2015</td>\n",
       "      <td>64500000</td>\n",
       "      <td>Europe</td>\n",
       "      <td>Western Europe</td>\n",
       "      <td>High</td>\n",
       "      <td>82.2</td>\n",
       "      <td>37800</td>\n",
       "      <td>1.98</td>\n",
       "      <td>3.9</td>\n",
       "      <td>118.00</td>\n",
       "      <td>13.2</td>\n",
       "      <td>14.0</td>\n",
       "    </tr>\n",
       "    <tr>\n",
       "      <th>993</th>\n",
       "      <td>Iceland</td>\n",
       "      <td>2015</td>\n",
       "      <td>330000</td>\n",
       "      <td>Europe</td>\n",
       "      <td>Northern Europe</td>\n",
       "      <td>High</td>\n",
       "      <td>82.2</td>\n",
       "      <td>42700</td>\n",
       "      <td>1.95</td>\n",
       "      <td>2.2</td>\n",
       "      <td>3.29</td>\n",
       "      <td>13.9</td>\n",
       "      <td>14.9</td>\n",
       "    </tr>\n",
       "    <tr>\n",
       "      <th>1091</th>\n",
       "      <td>Italy</td>\n",
       "      <td>2015</td>\n",
       "      <td>59500000</td>\n",
       "      <td>Europe</td>\n",
       "      <td>Southern Europe</td>\n",
       "      <td>High</td>\n",
       "      <td>82.3</td>\n",
       "      <td>34200</td>\n",
       "      <td>1.46</td>\n",
       "      <td>3.4</td>\n",
       "      <td>202.00</td>\n",
       "      <td>13.8</td>\n",
       "      <td>14.3</td>\n",
       "    </tr>\n",
       "    <tr>\n",
       "      <th>1118</th>\n",
       "      <td>Japan</td>\n",
       "      <td>2010</td>\n",
       "      <td>129000000</td>\n",
       "      <td>Asia</td>\n",
       "      <td>Eastern Asia</td>\n",
       "      <td>High</td>\n",
       "      <td>82.8</td>\n",
       "      <td>35800</td>\n",
       "      <td>1.37</td>\n",
       "      <td>3.2</td>\n",
       "      <td>353.00</td>\n",
       "      <td>14.6</td>\n",
       "      <td>14.9</td>\n",
       "    </tr>\n",
       "    <tr>\n",
       "      <th>1119</th>\n",
       "      <td>Japan</td>\n",
       "      <td>2015</td>\n",
       "      <td>128000000</td>\n",
       "      <td>Asia</td>\n",
       "      <td>Eastern Asia</td>\n",
       "      <td>High</td>\n",
       "      <td>83.8</td>\n",
       "      <td>37800</td>\n",
       "      <td>1.44</td>\n",
       "      <td>3.0</td>\n",
       "      <td>351.00</td>\n",
       "      <td>15.1</td>\n",
       "      <td>15.5</td>\n",
       "    </tr>\n",
       "    <tr>\n",
       "      <th>1665</th>\n",
       "      <td>Norway</td>\n",
       "      <td>2015</td>\n",
       "      <td>5200000</td>\n",
       "      <td>Europe</td>\n",
       "      <td>Northern Europe</td>\n",
       "      <td>High</td>\n",
       "      <td>82.1</td>\n",
       "      <td>63700</td>\n",
       "      <td>1.84</td>\n",
       "      <td>2.7</td>\n",
       "      <td>14.20</td>\n",
       "      <td>14.9</td>\n",
       "      <td>15.4</td>\n",
       "    </tr>\n",
       "    <tr>\n",
       "      <th>1958</th>\n",
       "      <td>Singapore</td>\n",
       "      <td>2010</td>\n",
       "      <td>5070000</td>\n",
       "      <td>Asia</td>\n",
       "      <td>South-eastern Asia</td>\n",
       "      <td>High</td>\n",
       "      <td>82.7</td>\n",
       "      <td>72100</td>\n",
       "      <td>1.26</td>\n",
       "      <td>2.8</td>\n",
       "      <td>7250.00</td>\n",
       "      <td>13.3</td>\n",
       "      <td>13.0</td>\n",
       "    </tr>\n",
       "    <tr>\n",
       "      <th>1959</th>\n",
       "      <td>Singapore</td>\n",
       "      <td>2015</td>\n",
       "      <td>5540000</td>\n",
       "      <td>Asia</td>\n",
       "      <td>South-eastern Asia</td>\n",
       "      <td>High</td>\n",
       "      <td>83.6</td>\n",
       "      <td>80900</td>\n",
       "      <td>1.24</td>\n",
       "      <td>2.7</td>\n",
       "      <td>7910.00</td>\n",
       "      <td>14.0</td>\n",
       "      <td>13.8</td>\n",
       "    </tr>\n",
       "    <tr>\n",
       "      <th>2071</th>\n",
       "      <td>Spain</td>\n",
       "      <td>2015</td>\n",
       "      <td>46400000</td>\n",
       "      <td>Europe</td>\n",
       "      <td>Southern Europe</td>\n",
       "      <td>High</td>\n",
       "      <td>82.9</td>\n",
       "      <td>32200</td>\n",
       "      <td>1.35</td>\n",
       "      <td>3.4</td>\n",
       "      <td>93.00</td>\n",
       "      <td>12.8</td>\n",
       "      <td>13.5</td>\n",
       "    </tr>\n",
       "    <tr>\n",
       "      <th>2141</th>\n",
       "      <td>Sweden</td>\n",
       "      <td>2015</td>\n",
       "      <td>9760000</td>\n",
       "      <td>Europe</td>\n",
       "      <td>Northern Europe</td>\n",
       "      <td>High</td>\n",
       "      <td>82.1</td>\n",
       "      <td>45500</td>\n",
       "      <td>1.91</td>\n",
       "      <td>2.9</td>\n",
       "      <td>23.80</td>\n",
       "      <td>14.5</td>\n",
       "      <td>15.1</td>\n",
       "    </tr>\n",
       "    <tr>\n",
       "      <th>2154</th>\n",
       "      <td>Switzerland</td>\n",
       "      <td>2010</td>\n",
       "      <td>7830000</td>\n",
       "      <td>Europe</td>\n",
       "      <td>Western Europe</td>\n",
       "      <td>High</td>\n",
       "      <td>82.2</td>\n",
       "      <td>55500</td>\n",
       "      <td>1.50</td>\n",
       "      <td>4.5</td>\n",
       "      <td>198.00</td>\n",
       "      <td>14.1</td>\n",
       "      <td>13.7</td>\n",
       "    </tr>\n",
       "    <tr>\n",
       "      <th>2155</th>\n",
       "      <td>Switzerland</td>\n",
       "      <td>2015</td>\n",
       "      <td>8320000</td>\n",
       "      <td>Europe</td>\n",
       "      <td>Western Europe</td>\n",
       "      <td>High</td>\n",
       "      <td>83.1</td>\n",
       "      <td>56500</td>\n",
       "      <td>1.54</td>\n",
       "      <td>4.1</td>\n",
       "      <td>211.00</td>\n",
       "      <td>14.6</td>\n",
       "      <td>14.4</td>\n",
       "    </tr>\n",
       "  </tbody>\n",
       "</table>\n",
       "</div>"
      ],
      "text/plain": [
       "          country  year  population   region                 sub_region  \\\n",
       "111     Australia  2015    23800000  Oceania  Australia and New Zealand   \n",
       "783        France  2015    64500000   Europe             Western Europe   \n",
       "993       Iceland  2015      330000   Europe            Northern Europe   \n",
       "1091        Italy  2015    59500000   Europe            Southern Europe   \n",
       "1118        Japan  2010   129000000     Asia               Eastern Asia   \n",
       "1119        Japan  2015   128000000     Asia               Eastern Asia   \n",
       "1665       Norway  2015     5200000   Europe            Northern Europe   \n",
       "1958    Singapore  2010     5070000     Asia         South-eastern Asia   \n",
       "1959    Singapore  2015     5540000     Asia         South-eastern Asia   \n",
       "2071        Spain  2015    46400000   Europe            Southern Europe   \n",
       "2141       Sweden  2015     9760000   Europe            Northern Europe   \n",
       "2154  Switzerland  2010     7830000   Europe             Western Europe   \n",
       "2155  Switzerland  2015     8320000   Europe             Western Europe   \n",
       "\n",
       "     income_group  life_expectancy  gdp_per_capita  children_per_woman  \\\n",
       "111          High             82.6           43800                1.86   \n",
       "783          High             82.2           37800                1.98   \n",
       "993          High             82.2           42700                1.95   \n",
       "1091         High             82.3           34200                1.46   \n",
       "1118         High             82.8           35800                1.37   \n",
       "1119         High             83.8           37800                1.44   \n",
       "1665         High             82.1           63700                1.84   \n",
       "1958         High             82.7           72100                1.26   \n",
       "1959         High             83.6           80900                1.24   \n",
       "2071         High             82.9           32200                1.35   \n",
       "2141         High             82.1           45500                1.91   \n",
       "2154         High             82.2           55500                1.50   \n",
       "2155         High             83.1           56500                1.54   \n",
       "\n",
       "      child_mortality  pop_density  years_in_school_men  years_in_school_women  \n",
       "111               3.8         3.10                 14.2                   14.5  \n",
       "783               3.9       118.00                 13.2                   14.0  \n",
       "993               2.2         3.29                 13.9                   14.9  \n",
       "1091              3.4       202.00                 13.8                   14.3  \n",
       "1118              3.2       353.00                 14.6                   14.9  \n",
       "1119              3.0       351.00                 15.1                   15.5  \n",
       "1665              2.7        14.20                 14.9                   15.4  \n",
       "1958              2.8      7250.00                 13.3                   13.0  \n",
       "1959              2.7      7910.00                 14.0                   13.8  \n",
       "2071              3.4        93.00                 12.8                   13.5  \n",
       "2141              2.9        23.80                 14.5                   15.1  \n",
       "2154              4.5       198.00                 14.1                   13.7  \n",
       "2155              4.1       211.00                 14.6                   14.4  "
      ]
     },
     "execution_count": 28,
     "metadata": {},
     "output_type": "execute_result"
    }
   ],
   "source": [
    "world[world['life_expectancy'] > 82]"
   ]
  },
  {
   "cell_type": "markdown",
   "metadata": {
    "slideshow": {
     "slide_type": "fragment"
    }
   },
   "source": [
    "- The output is a DataFrame containing only the 13 rows of `world` matching our criteria\n",
    "- We can see which countries and years with life expectancy above 82 are:\n",
    "  - Australia, France, Iceland, Italy, Japan, Norway, Singapore, Spain, Sweden and Switzerland in 2015\n",
    "  - Japan, Singapore, and Switzerland in 2010"
   ]
  },
  {
   "cell_type": "markdown",
   "metadata": {
    "slideshow": {
     "slide_type": "slide"
    }
   },
   "source": [
    "We can use any of the comparison operators (`>`, `>=`, `<`, `<=`, `==`, `!=`) on a DataFrame column to create Boolean Series for filtering our data\n",
    "\n",
    "Select data for East Asian countries:"
   ]
  },
  {
   "cell_type": "code",
   "execution_count": 29,
   "metadata": {
    "slideshow": {
     "slide_type": "-"
    }
   },
   "outputs": [
    {
     "data": {
      "text/html": [
       "<div>\n",
       "<style scoped>\n",
       "    .dataframe tbody tr th:only-of-type {\n",
       "        vertical-align: middle;\n",
       "    }\n",
       "\n",
       "    .dataframe tbody tr th {\n",
       "        vertical-align: top;\n",
       "    }\n",
       "\n",
       "    .dataframe thead th {\n",
       "        text-align: right;\n",
       "    }\n",
       "</style>\n",
       "<table border=\"1\" class=\"dataframe\">\n",
       "  <thead>\n",
       "    <tr style=\"text-align: right;\">\n",
       "      <th></th>\n",
       "      <th>country</th>\n",
       "      <th>year</th>\n",
       "      <th>population</th>\n",
       "      <th>region</th>\n",
       "      <th>sub_region</th>\n",
       "      <th>income_group</th>\n",
       "      <th>life_expectancy</th>\n",
       "      <th>gdp_per_capita</th>\n",
       "      <th>children_per_woman</th>\n",
       "      <th>child_mortality</th>\n",
       "      <th>pop_density</th>\n",
       "      <th>years_in_school_men</th>\n",
       "      <th>years_in_school_women</th>\n",
       "    </tr>\n",
       "  </thead>\n",
       "  <tbody>\n",
       "    <tr>\n",
       "      <th>448</th>\n",
       "      <td>China</td>\n",
       "      <td>1950</td>\n",
       "      <td>554000000</td>\n",
       "      <td>Asia</td>\n",
       "      <td>Eastern Asia</td>\n",
       "      <td>Upper middle</td>\n",
       "      <td>40.7</td>\n",
       "      <td>536</td>\n",
       "      <td>5.29</td>\n",
       "      <td>317.0</td>\n",
       "      <td>59.1</td>\n",
       "      <td>NaN</td>\n",
       "      <td>NaN</td>\n",
       "    </tr>\n",
       "    <tr>\n",
       "      <th>449</th>\n",
       "      <td>China</td>\n",
       "      <td>1955</td>\n",
       "      <td>611000000</td>\n",
       "      <td>Asia</td>\n",
       "      <td>Eastern Asia</td>\n",
       "      <td>Upper middle</td>\n",
       "      <td>47.0</td>\n",
       "      <td>708</td>\n",
       "      <td>5.98</td>\n",
       "      <td>291.0</td>\n",
       "      <td>65.1</td>\n",
       "      <td>NaN</td>\n",
       "      <td>NaN</td>\n",
       "    </tr>\n",
       "    <tr>\n",
       "      <th>450</th>\n",
       "      <td>China</td>\n",
       "      <td>1960</td>\n",
       "      <td>658000000</td>\n",
       "      <td>Asia</td>\n",
       "      <td>Eastern Asia</td>\n",
       "      <td>Upper middle</td>\n",
       "      <td>30.9</td>\n",
       "      <td>891</td>\n",
       "      <td>3.99</td>\n",
       "      <td>309.0</td>\n",
       "      <td>70.1</td>\n",
       "      <td>NaN</td>\n",
       "      <td>NaN</td>\n",
       "    </tr>\n",
       "    <tr>\n",
       "      <th>451</th>\n",
       "      <td>China</td>\n",
       "      <td>1965</td>\n",
       "      <td>723000000</td>\n",
       "      <td>Asia</td>\n",
       "      <td>Eastern Asia</td>\n",
       "      <td>Upper middle</td>\n",
       "      <td>54.3</td>\n",
       "      <td>774</td>\n",
       "      <td>6.02</td>\n",
       "      <td>115.0</td>\n",
       "      <td>77.0</td>\n",
       "      <td>NaN</td>\n",
       "      <td>NaN</td>\n",
       "    </tr>\n",
       "    <tr>\n",
       "      <th>452</th>\n",
       "      <td>China</td>\n",
       "      <td>1970</td>\n",
       "      <td>825000000</td>\n",
       "      <td>Asia</td>\n",
       "      <td>Eastern Asia</td>\n",
       "      <td>Upper middle</td>\n",
       "      <td>61.0</td>\n",
       "      <td>851</td>\n",
       "      <td>5.75</td>\n",
       "      <td>114.0</td>\n",
       "      <td>87.9</td>\n",
       "      <td>5.37</td>\n",
       "      <td>3.57</td>\n",
       "    </tr>\n",
       "    <tr>\n",
       "      <th>...</th>\n",
       "      <td>...</td>\n",
       "      <td>...</td>\n",
       "      <td>...</td>\n",
       "      <td>...</td>\n",
       "      <td>...</td>\n",
       "      <td>...</td>\n",
       "      <td>...</td>\n",
       "      <td>...</td>\n",
       "      <td>...</td>\n",
       "      <td>...</td>\n",
       "      <td>...</td>\n",
       "      <td>...</td>\n",
       "      <td>...</td>\n",
       "    </tr>\n",
       "    <tr>\n",
       "      <th>2039</th>\n",
       "      <td>South Korea</td>\n",
       "      <td>1995</td>\n",
       "      <td>45300000</td>\n",
       "      <td>Asia</td>\n",
       "      <td>Eastern Asia</td>\n",
       "      <td>High</td>\n",
       "      <td>74.2</td>\n",
       "      <td>16600</td>\n",
       "      <td>1.62</td>\n",
       "      <td>10.6</td>\n",
       "      <td>466.0</td>\n",
       "      <td>12.30</td>\n",
       "      <td>11.40</td>\n",
       "    </tr>\n",
       "    <tr>\n",
       "      <th>2040</th>\n",
       "      <td>South Korea</td>\n",
       "      <td>2000</td>\n",
       "      <td>47400000</td>\n",
       "      <td>Asia</td>\n",
       "      <td>Eastern Asia</td>\n",
       "      <td>High</td>\n",
       "      <td>76.0</td>\n",
       "      <td>20800</td>\n",
       "      <td>1.35</td>\n",
       "      <td>7.5</td>\n",
       "      <td>487.0</td>\n",
       "      <td>13.00</td>\n",
       "      <td>12.30</td>\n",
       "    </tr>\n",
       "    <tr>\n",
       "      <th>2041</th>\n",
       "      <td>South Korea</td>\n",
       "      <td>2005</td>\n",
       "      <td>48700000</td>\n",
       "      <td>Asia</td>\n",
       "      <td>Eastern Asia</td>\n",
       "      <td>High</td>\n",
       "      <td>78.3</td>\n",
       "      <td>25500</td>\n",
       "      <td>1.17</td>\n",
       "      <td>5.5</td>\n",
       "      <td>501.0</td>\n",
       "      <td>13.60</td>\n",
       "      <td>13.10</td>\n",
       "    </tr>\n",
       "    <tr>\n",
       "      <th>2042</th>\n",
       "      <td>South Korea</td>\n",
       "      <td>2010</td>\n",
       "      <td>49600000</td>\n",
       "      <td>Asia</td>\n",
       "      <td>Eastern Asia</td>\n",
       "      <td>High</td>\n",
       "      <td>80.1</td>\n",
       "      <td>30400</td>\n",
       "      <td>1.19</td>\n",
       "      <td>4.1</td>\n",
       "      <td>510.0</td>\n",
       "      <td>14.20</td>\n",
       "      <td>13.90</td>\n",
       "    </tr>\n",
       "    <tr>\n",
       "      <th>2043</th>\n",
       "      <td>South Korea</td>\n",
       "      <td>2015</td>\n",
       "      <td>50600000</td>\n",
       "      <td>Asia</td>\n",
       "      <td>Eastern Asia</td>\n",
       "      <td>High</td>\n",
       "      <td>80.9</td>\n",
       "      <td>34200</td>\n",
       "      <td>1.28</td>\n",
       "      <td>3.5</td>\n",
       "      <td>520.0</td>\n",
       "      <td>14.80</td>\n",
       "      <td>14.60</td>\n",
       "    </tr>\n",
       "  </tbody>\n",
       "</table>\n",
       "<p>70 rows × 13 columns</p>\n",
       "</div>"
      ],
      "text/plain": [
       "          country  year  population region    sub_region  income_group  \\\n",
       "448         China  1950   554000000   Asia  Eastern Asia  Upper middle   \n",
       "449         China  1955   611000000   Asia  Eastern Asia  Upper middle   \n",
       "450         China  1960   658000000   Asia  Eastern Asia  Upper middle   \n",
       "451         China  1965   723000000   Asia  Eastern Asia  Upper middle   \n",
       "452         China  1970   825000000   Asia  Eastern Asia  Upper middle   \n",
       "...           ...   ...         ...    ...           ...           ...   \n",
       "2039  South Korea  1995    45300000   Asia  Eastern Asia          High   \n",
       "2040  South Korea  2000    47400000   Asia  Eastern Asia          High   \n",
       "2041  South Korea  2005    48700000   Asia  Eastern Asia          High   \n",
       "2042  South Korea  2010    49600000   Asia  Eastern Asia          High   \n",
       "2043  South Korea  2015    50600000   Asia  Eastern Asia          High   \n",
       "\n",
       "      life_expectancy  gdp_per_capita  children_per_woman  child_mortality  \\\n",
       "448              40.7             536                5.29            317.0   \n",
       "449              47.0             708                5.98            291.0   \n",
       "450              30.9             891                3.99            309.0   \n",
       "451              54.3             774                6.02            115.0   \n",
       "452              61.0             851                5.75            114.0   \n",
       "...               ...             ...                 ...              ...   \n",
       "2039             74.2           16600                1.62             10.6   \n",
       "2040             76.0           20800                1.35              7.5   \n",
       "2041             78.3           25500                1.17              5.5   \n",
       "2042             80.1           30400                1.19              4.1   \n",
       "2043             80.9           34200                1.28              3.5   \n",
       "\n",
       "      pop_density  years_in_school_men  years_in_school_women  \n",
       "448          59.1                  NaN                    NaN  \n",
       "449          65.1                  NaN                    NaN  \n",
       "450          70.1                  NaN                    NaN  \n",
       "451          77.0                  NaN                    NaN  \n",
       "452          87.9                 5.37                   3.57  \n",
       "...           ...                  ...                    ...  \n",
       "2039        466.0                12.30                  11.40  \n",
       "2040        487.0                13.00                  12.30  \n",
       "2041        501.0                13.60                  13.10  \n",
       "2042        510.0                14.20                  13.90  \n",
       "2043        520.0                14.80                  14.60  \n",
       "\n",
       "[70 rows x 13 columns]"
      ]
     },
     "execution_count": 29,
     "metadata": {},
     "output_type": "execute_result"
    }
   ],
   "source": [
    "east_asia = world[world['sub_region'] == 'Eastern Asia']\n",
    "east_asia"
   ]
  },
  {
   "cell_type": "markdown",
   "metadata": {
    "slideshow": {
     "slide_type": "fragment"
    }
   },
   "source": [
    "We can filter the East Asian data further to select the year 2015:"
   ]
  },
  {
   "cell_type": "code",
   "execution_count": 30,
   "metadata": {},
   "outputs": [
    {
     "data": {
      "text/html": [
       "<div>\n",
       "<style scoped>\n",
       "    .dataframe tbody tr th:only-of-type {\n",
       "        vertical-align: middle;\n",
       "    }\n",
       "\n",
       "    .dataframe tbody tr th {\n",
       "        vertical-align: top;\n",
       "    }\n",
       "\n",
       "    .dataframe thead th {\n",
       "        text-align: right;\n",
       "    }\n",
       "</style>\n",
       "<table border=\"1\" class=\"dataframe\">\n",
       "  <thead>\n",
       "    <tr style=\"text-align: right;\">\n",
       "      <th></th>\n",
       "      <th>country</th>\n",
       "      <th>year</th>\n",
       "      <th>population</th>\n",
       "      <th>region</th>\n",
       "      <th>sub_region</th>\n",
       "      <th>income_group</th>\n",
       "      <th>life_expectancy</th>\n",
       "      <th>gdp_per_capita</th>\n",
       "      <th>children_per_woman</th>\n",
       "      <th>child_mortality</th>\n",
       "      <th>pop_density</th>\n",
       "      <th>years_in_school_men</th>\n",
       "      <th>years_in_school_women</th>\n",
       "    </tr>\n",
       "  </thead>\n",
       "  <tbody>\n",
       "    <tr>\n",
       "      <th>461</th>\n",
       "      <td>China</td>\n",
       "      <td>2015</td>\n",
       "      <td>1400000000</td>\n",
       "      <td>Asia</td>\n",
       "      <td>Eastern Asia</td>\n",
       "      <td>Upper middle</td>\n",
       "      <td>76.3</td>\n",
       "      <td>13600</td>\n",
       "      <td>1.62</td>\n",
       "      <td>10.7</td>\n",
       "      <td>149.00</td>\n",
       "      <td>11.0</td>\n",
       "      <td>9.82</td>\n",
       "    </tr>\n",
       "    <tr>\n",
       "      <th>1119</th>\n",
       "      <td>Japan</td>\n",
       "      <td>2015</td>\n",
       "      <td>128000000</td>\n",
       "      <td>Asia</td>\n",
       "      <td>Eastern Asia</td>\n",
       "      <td>High</td>\n",
       "      <td>83.8</td>\n",
       "      <td>37800</td>\n",
       "      <td>1.44</td>\n",
       "      <td>3.0</td>\n",
       "      <td>351.00</td>\n",
       "      <td>15.1</td>\n",
       "      <td>15.50</td>\n",
       "    </tr>\n",
       "    <tr>\n",
       "      <th>1483</th>\n",
       "      <td>Mongolia</td>\n",
       "      <td>2015</td>\n",
       "      <td>2980000</td>\n",
       "      <td>Asia</td>\n",
       "      <td>Eastern Asia</td>\n",
       "      <td>Lower middle</td>\n",
       "      <td>68.2</td>\n",
       "      <td>11400</td>\n",
       "      <td>2.79</td>\n",
       "      <td>18.8</td>\n",
       "      <td>1.92</td>\n",
       "      <td>10.8</td>\n",
       "      <td>12.10</td>\n",
       "    </tr>\n",
       "    <tr>\n",
       "      <th>1651</th>\n",
       "      <td>North Korea</td>\n",
       "      <td>2015</td>\n",
       "      <td>25200000</td>\n",
       "      <td>Asia</td>\n",
       "      <td>Eastern Asia</td>\n",
       "      <td>Low</td>\n",
       "      <td>70.6</td>\n",
       "      <td>1390</td>\n",
       "      <td>1.92</td>\n",
       "      <td>21.1</td>\n",
       "      <td>210.00</td>\n",
       "      <td>12.5</td>\n",
       "      <td>11.60</td>\n",
       "    </tr>\n",
       "    <tr>\n",
       "      <th>2043</th>\n",
       "      <td>South Korea</td>\n",
       "      <td>2015</td>\n",
       "      <td>50600000</td>\n",
       "      <td>Asia</td>\n",
       "      <td>Eastern Asia</td>\n",
       "      <td>High</td>\n",
       "      <td>80.9</td>\n",
       "      <td>34200</td>\n",
       "      <td>1.28</td>\n",
       "      <td>3.5</td>\n",
       "      <td>520.00</td>\n",
       "      <td>14.8</td>\n",
       "      <td>14.60</td>\n",
       "    </tr>\n",
       "  </tbody>\n",
       "</table>\n",
       "</div>"
      ],
      "text/plain": [
       "          country  year  population region    sub_region  income_group  \\\n",
       "461         China  2015  1400000000   Asia  Eastern Asia  Upper middle   \n",
       "1119        Japan  2015   128000000   Asia  Eastern Asia          High   \n",
       "1483     Mongolia  2015     2980000   Asia  Eastern Asia  Lower middle   \n",
       "1651  North Korea  2015    25200000   Asia  Eastern Asia           Low   \n",
       "2043  South Korea  2015    50600000   Asia  Eastern Asia          High   \n",
       "\n",
       "      life_expectancy  gdp_per_capita  children_per_woman  child_mortality  \\\n",
       "461              76.3           13600                1.62             10.7   \n",
       "1119             83.8           37800                1.44              3.0   \n",
       "1483             68.2           11400                2.79             18.8   \n",
       "1651             70.6            1390                1.92             21.1   \n",
       "2043             80.9           34200                1.28              3.5   \n",
       "\n",
       "      pop_density  years_in_school_men  years_in_school_women  \n",
       "461        149.00                 11.0                   9.82  \n",
       "1119       351.00                 15.1                  15.50  \n",
       "1483         1.92                 10.8                  12.10  \n",
       "1651       210.00                 12.5                  11.60  \n",
       "2043       520.00                 14.8                  14.60  "
      ]
     },
     "execution_count": 30,
     "metadata": {},
     "output_type": "execute_result"
    }
   ],
   "source": [
    "east_asia_2015 = east_asia[east_asia['year'] == 2015]\n",
    "east_asia_2015"
   ]
  },
  {
   "cell_type": "markdown",
   "metadata": {
    "slideshow": {
     "slide_type": "slide"
    }
   },
   "source": [
    "## Selecting Rows and Columns\n",
    "\n",
    "To select rows and columns at the same time, we use the syntax `.loc[<rows>, <columns>]`:"
   ]
  },
  {
   "cell_type": "code",
   "execution_count": 31,
   "metadata": {},
   "outputs": [
    {
     "data": {
      "text/html": [
       "<div>\n",
       "<style scoped>\n",
       "    .dataframe tbody tr th:only-of-type {\n",
       "        vertical-align: middle;\n",
       "    }\n",
       "\n",
       "    .dataframe tbody tr th {\n",
       "        vertical-align: top;\n",
       "    }\n",
       "\n",
       "    .dataframe thead th {\n",
       "        text-align: right;\n",
       "    }\n",
       "</style>\n",
       "<table border=\"1\" class=\"dataframe\">\n",
       "  <thead>\n",
       "    <tr style=\"text-align: right;\">\n",
       "      <th></th>\n",
       "      <th>country</th>\n",
       "      <th>year</th>\n",
       "      <th>population</th>\n",
       "    </tr>\n",
       "  </thead>\n",
       "  <tbody>\n",
       "    <tr>\n",
       "      <th>392</th>\n",
       "      <td>Canada</td>\n",
       "      <td>1950</td>\n",
       "      <td>13700000</td>\n",
       "    </tr>\n",
       "    <tr>\n",
       "      <th>393</th>\n",
       "      <td>Canada</td>\n",
       "      <td>1955</td>\n",
       "      <td>15700000</td>\n",
       "    </tr>\n",
       "    <tr>\n",
       "      <th>394</th>\n",
       "      <td>Canada</td>\n",
       "      <td>1960</td>\n",
       "      <td>17900000</td>\n",
       "    </tr>\n",
       "    <tr>\n",
       "      <th>395</th>\n",
       "      <td>Canada</td>\n",
       "      <td>1965</td>\n",
       "      <td>19700000</td>\n",
       "    </tr>\n",
       "    <tr>\n",
       "      <th>396</th>\n",
       "      <td>Canada</td>\n",
       "      <td>1970</td>\n",
       "      <td>21500000</td>\n",
       "    </tr>\n",
       "  </tbody>\n",
       "</table>\n",
       "</div>"
      ],
      "text/plain": [
       "    country  year  population\n",
       "392  Canada  1950    13700000\n",
       "393  Canada  1955    15700000\n",
       "394  Canada  1960    17900000\n",
       "395  Canada  1965    19700000\n",
       "396  Canada  1970    21500000"
      ]
     },
     "execution_count": 31,
     "metadata": {},
     "output_type": "execute_result"
    }
   ],
   "source": [
    "canada_pop = world.loc[world['country'] == 'Canada', ['country', 'year', 'population']]\n",
    "canada_pop.head()"
   ]
  },
  {
   "cell_type": "markdown",
   "metadata": {
    "slideshow": {
     "slide_type": "fragment"
    }
   },
   "source": [
    "- To improve readability, longer statements can be split into multiple rows"
   ]
  },
  {
   "cell_type": "code",
   "execution_count": 32,
   "metadata": {},
   "outputs": [
    {
     "data": {
      "text/html": [
       "<div>\n",
       "<style scoped>\n",
       "    .dataframe tbody tr th:only-of-type {\n",
       "        vertical-align: middle;\n",
       "    }\n",
       "\n",
       "    .dataframe tbody tr th {\n",
       "        vertical-align: top;\n",
       "    }\n",
       "\n",
       "    .dataframe thead th {\n",
       "        text-align: right;\n",
       "    }\n",
       "</style>\n",
       "<table border=\"1\" class=\"dataframe\">\n",
       "  <thead>\n",
       "    <tr style=\"text-align: right;\">\n",
       "      <th></th>\n",
       "      <th>country</th>\n",
       "      <th>year</th>\n",
       "      <th>sub_region</th>\n",
       "      <th>population</th>\n",
       "      <th>life_expectancy</th>\n",
       "    </tr>\n",
       "  </thead>\n",
       "  <tbody>\n",
       "    <tr>\n",
       "      <th>12</th>\n",
       "      <td>Afghanistan</td>\n",
       "      <td>2010</td>\n",
       "      <td>Southern Asia</td>\n",
       "      <td>28800000</td>\n",
       "      <td>56.2</td>\n",
       "    </tr>\n",
       "    <tr>\n",
       "      <th>13</th>\n",
       "      <td>Afghanistan</td>\n",
       "      <td>2015</td>\n",
       "      <td>Southern Asia</td>\n",
       "      <td>33700000</td>\n",
       "      <td>57.9</td>\n",
       "    </tr>\n",
       "    <tr>\n",
       "      <th>26</th>\n",
       "      <td>Albania</td>\n",
       "      <td>2010</td>\n",
       "      <td>Southern Europe</td>\n",
       "      <td>2940000</td>\n",
       "      <td>76.3</td>\n",
       "    </tr>\n",
       "    <tr>\n",
       "      <th>27</th>\n",
       "      <td>Albania</td>\n",
       "      <td>2015</td>\n",
       "      <td>Southern Europe</td>\n",
       "      <td>2920000</td>\n",
       "      <td>77.6</td>\n",
       "    </tr>\n",
       "    <tr>\n",
       "      <th>40</th>\n",
       "      <td>Algeria</td>\n",
       "      <td>2010</td>\n",
       "      <td>Northern Africa</td>\n",
       "      <td>36100000</td>\n",
       "      <td>76.5</td>\n",
       "    </tr>\n",
       "  </tbody>\n",
       "</table>\n",
       "</div>"
      ],
      "text/plain": [
       "        country  year       sub_region  population  life_expectancy\n",
       "12  Afghanistan  2010    Southern Asia    28800000             56.2\n",
       "13  Afghanistan  2015    Southern Asia    33700000             57.9\n",
       "26      Albania  2010  Southern Europe     2940000             76.3\n",
       "27      Albania  2015  Southern Europe     2920000             77.6\n",
       "40      Algeria  2010  Northern Africa    36100000             76.5"
      ]
     },
     "execution_count": 32,
     "metadata": {},
     "output_type": "execute_result"
    }
   ],
   "source": [
    "recent_data = world.loc[world['year'] >= 2010,\n",
    "                        ['country', 'year', 'sub_region', 'population', 'life_expectancy']\n",
    "                       ]\n",
    "recent_data.head()"
   ]
  },
  {
   "cell_type": "markdown",
   "metadata": {
    "slideshow": {
     "slide_type": "slide"
    }
   },
   "source": [
    "## Bonus: More Options for Data Selection\n",
    "\n",
    "- A single expression can be used to filter rows based on multiple criteria, either matching *all* the criteria (`&`) or *any* of the criteria (`|`)\n",
    "- These special operators are used instead of `and` and `or` to make sure that the comparison occurs for each row in the data frame\n",
    "- Parentheses are added to indicate the priority of the comparisons\n",
    "\n",
    "Select rows where the sub-region is Northern Europe and the year is 2015:"
   ]
  },
  {
   "cell_type": "code",
   "execution_count": 33,
   "metadata": {},
   "outputs": [
    {
     "data": {
      "text/html": [
       "<div>\n",
       "<style scoped>\n",
       "    .dataframe tbody tr th:only-of-type {\n",
       "        vertical-align: middle;\n",
       "    }\n",
       "\n",
       "    .dataframe tbody tr th {\n",
       "        vertical-align: top;\n",
       "    }\n",
       "\n",
       "    .dataframe thead th {\n",
       "        text-align: right;\n",
       "    }\n",
       "</style>\n",
       "<table border=\"1\" class=\"dataframe\">\n",
       "  <thead>\n",
       "    <tr style=\"text-align: right;\">\n",
       "      <th></th>\n",
       "      <th>sub_region</th>\n",
       "      <th>country</th>\n",
       "      <th>year</th>\n",
       "      <th>gdp_per_capita</th>\n",
       "    </tr>\n",
       "  </thead>\n",
       "  <tbody>\n",
       "    <tr>\n",
       "      <th>615</th>\n",
       "      <td>Northern Europe</td>\n",
       "      <td>Denmark</td>\n",
       "      <td>2015</td>\n",
       "      <td>45500</td>\n",
       "    </tr>\n",
       "    <tr>\n",
       "      <th>727</th>\n",
       "      <td>Northern Europe</td>\n",
       "      <td>Estonia</td>\n",
       "      <td>2015</td>\n",
       "      <td>27300</td>\n",
       "    </tr>\n",
       "    <tr>\n",
       "      <th>769</th>\n",
       "      <td>Northern Europe</td>\n",
       "      <td>Finland</td>\n",
       "      <td>2015</td>\n",
       "      <td>39000</td>\n",
       "    </tr>\n",
       "    <tr>\n",
       "      <th>993</th>\n",
       "      <td>Northern Europe</td>\n",
       "      <td>Iceland</td>\n",
       "      <td>2015</td>\n",
       "      <td>42700</td>\n",
       "    </tr>\n",
       "    <tr>\n",
       "      <th>1063</th>\n",
       "      <td>Northern Europe</td>\n",
       "      <td>Ireland</td>\n",
       "      <td>2015</td>\n",
       "      <td>60900</td>\n",
       "    </tr>\n",
       "    <tr>\n",
       "      <th>1231</th>\n",
       "      <td>Northern Europe</td>\n",
       "      <td>Latvia</td>\n",
       "      <td>2015</td>\n",
       "      <td>23100</td>\n",
       "    </tr>\n",
       "    <tr>\n",
       "      <th>1301</th>\n",
       "      <td>Northern Europe</td>\n",
       "      <td>Lithuania</td>\n",
       "      <td>2015</td>\n",
       "      <td>27000</td>\n",
       "    </tr>\n",
       "    <tr>\n",
       "      <th>1665</th>\n",
       "      <td>Northern Europe</td>\n",
       "      <td>Norway</td>\n",
       "      <td>2015</td>\n",
       "      <td>63700</td>\n",
       "    </tr>\n",
       "    <tr>\n",
       "      <th>2141</th>\n",
       "      <td>Northern Europe</td>\n",
       "      <td>Sweden</td>\n",
       "      <td>2015</td>\n",
       "      <td>45500</td>\n",
       "    </tr>\n",
       "    <tr>\n",
       "      <th>2365</th>\n",
       "      <td>Northern Europe</td>\n",
       "      <td>United Kingdom</td>\n",
       "      <td>2015</td>\n",
       "      <td>38500</td>\n",
       "    </tr>\n",
       "  </tbody>\n",
       "</table>\n",
       "</div>"
      ],
      "text/plain": [
       "           sub_region         country  year  gdp_per_capita\n",
       "615   Northern Europe         Denmark  2015           45500\n",
       "727   Northern Europe         Estonia  2015           27300\n",
       "769   Northern Europe         Finland  2015           39000\n",
       "993   Northern Europe         Iceland  2015           42700\n",
       "1063  Northern Europe         Ireland  2015           60900\n",
       "1231  Northern Europe          Latvia  2015           23100\n",
       "1301  Northern Europe       Lithuania  2015           27000\n",
       "1665  Northern Europe          Norway  2015           63700\n",
       "2141  Northern Europe          Sweden  2015           45500\n",
       "2365  Northern Europe  United Kingdom  2015           38500"
      ]
     },
     "execution_count": 33,
     "metadata": {},
     "output_type": "execute_result"
    }
   ],
   "source": [
    "world.loc[(world['sub_region'] == 'Northern Europe') & (world['year'] == 2015),\n",
    "          ['sub_region', 'country', 'year', 'gdp_per_capita']\n",
    "         ]"
   ]
  },
  {
   "cell_type": "markdown",
   "metadata": {},
   "source": [
    "Other useful ways of subsetting data include methods such as `isin()`, `between()`, `isna()`, `notna()`"
   ]
  },
  {
   "cell_type": "code",
   "execution_count": 34,
   "metadata": {},
   "outputs": [
    {
     "data": {
      "text/html": [
       "<div>\n",
       "<style scoped>\n",
       "    .dataframe tbody tr th:only-of-type {\n",
       "        vertical-align: middle;\n",
       "    }\n",
       "\n",
       "    .dataframe tbody tr th {\n",
       "        vertical-align: top;\n",
       "    }\n",
       "\n",
       "    .dataframe thead th {\n",
       "        text-align: right;\n",
       "    }\n",
       "</style>\n",
       "<table border=\"1\" class=\"dataframe\">\n",
       "  <thead>\n",
       "    <tr style=\"text-align: right;\">\n",
       "      <th></th>\n",
       "      <th>country</th>\n",
       "      <th>year</th>\n",
       "      <th>life_expectancy</th>\n",
       "    </tr>\n",
       "  </thead>\n",
       "  <tbody>\n",
       "    <tr>\n",
       "      <th>405</th>\n",
       "      <td>Canada</td>\n",
       "      <td>2015</td>\n",
       "      <td>81.7</td>\n",
       "    </tr>\n",
       "    <tr>\n",
       "      <th>783</th>\n",
       "      <td>France</td>\n",
       "      <td>2015</td>\n",
       "      <td>82.2</td>\n",
       "    </tr>\n",
       "    <tr>\n",
       "      <th>1119</th>\n",
       "      <td>Japan</td>\n",
       "      <td>2015</td>\n",
       "      <td>83.8</td>\n",
       "    </tr>\n",
       "  </tbody>\n",
       "</table>\n",
       "</div>"
      ],
      "text/plain": [
       "     country  year  life_expectancy\n",
       "405   Canada  2015             81.7\n",
       "783   France  2015             82.2\n",
       "1119   Japan  2015             83.8"
      ]
     },
     "execution_count": 34,
     "metadata": {},
     "output_type": "execute_result"
    }
   ],
   "source": [
    "world.loc[world['country'].isin(['Canada', 'Japan', 'France']) & (world['year'] == 2015),\n",
    "          ['country', 'year', 'life_expectancy']\n",
    "         ]"
   ]
  },
  {
   "cell_type": "markdown",
   "metadata": {
    "slideshow": {
     "slide_type": "-"
    }
   },
   "source": [
    "Data subsets can also be selected using row labels (index), slices (`:` similar to lists), and position (row and column numbers). For more details, check out [this tutorial](https://pandas.pydata.org/docs/getting_started/intro_tutorials/03_subset_data.html#min-tut-03-subset) and the [pandas documentation](https://pandas.pydata.org/docs/user_guide/indexing.html)."
   ]
  },
  {
   "cell_type": "markdown",
   "metadata": {
    "slideshow": {
     "slide_type": "slide"
    }
   },
   "source": [
    "## Exercise 1.2\n",
    "\n",
    "a) Create a new DataFrame called `americas` which contains the rows of `world` where the region is \"Americas\" and has the following columns: `country`, `year`, `sub_region`, `income_group`, `pop_density`.\n",
    "\n",
    "b) Use the `head()` and `tail()` methods to display the first 20 and last 20 rows.\n",
    "\n",
    "c) Use the `unique()` method on the `country` column to display the list of unique countries in the `americas` DataFrame."
   ]
  },
  {
   "cell_type": "code",
   "execution_count": null,
   "metadata": {
    "slideshow": {
     "slide_type": "fragment"
    }
   },
   "outputs": [],
   "source": []
  },
  {
   "cell_type": "markdown",
   "metadata": {
    "slideshow": {
     "slide_type": "slide"
    }
   },
   "source": [
    "## Creating New Columns\n",
    "\n",
    "We can perform calculations with the columns of a DataFrame and assign the results to a new column.\n",
    "\n",
    "Calculate total GDP by multiplying GDP per capita with population:"
   ]
  },
  {
   "cell_type": "code",
   "execution_count": 35,
   "metadata": {},
   "outputs": [
    {
     "data": {
      "text/html": [
       "<div>\n",
       "<style scoped>\n",
       "    .dataframe tbody tr th:only-of-type {\n",
       "        vertical-align: middle;\n",
       "    }\n",
       "\n",
       "    .dataframe tbody tr th {\n",
       "        vertical-align: top;\n",
       "    }\n",
       "\n",
       "    .dataframe thead th {\n",
       "        text-align: right;\n",
       "    }\n",
       "</style>\n",
       "<table border=\"1\" class=\"dataframe\">\n",
       "  <thead>\n",
       "    <tr style=\"text-align: right;\">\n",
       "      <th></th>\n",
       "      <th>country</th>\n",
       "      <th>year</th>\n",
       "      <th>population</th>\n",
       "      <th>region</th>\n",
       "      <th>sub_region</th>\n",
       "      <th>income_group</th>\n",
       "      <th>life_expectancy</th>\n",
       "      <th>gdp_per_capita</th>\n",
       "      <th>children_per_woman</th>\n",
       "      <th>child_mortality</th>\n",
       "      <th>pop_density</th>\n",
       "      <th>years_in_school_men</th>\n",
       "      <th>years_in_school_women</th>\n",
       "      <th>gdp_total</th>\n",
       "    </tr>\n",
       "  </thead>\n",
       "  <tbody>\n",
       "    <tr>\n",
       "      <th>0</th>\n",
       "      <td>Afghanistan</td>\n",
       "      <td>1950</td>\n",
       "      <td>7750000</td>\n",
       "      <td>Asia</td>\n",
       "      <td>Southern Asia</td>\n",
       "      <td>Low</td>\n",
       "      <td>32.0</td>\n",
       "      <td>1040</td>\n",
       "      <td>7.57</td>\n",
       "      <td>425.0</td>\n",
       "      <td>11.9</td>\n",
       "      <td>NaN</td>\n",
       "      <td>NaN</td>\n",
       "      <td>8060000000</td>\n",
       "    </tr>\n",
       "    <tr>\n",
       "      <th>1</th>\n",
       "      <td>Afghanistan</td>\n",
       "      <td>1955</td>\n",
       "      <td>8270000</td>\n",
       "      <td>Asia</td>\n",
       "      <td>Southern Asia</td>\n",
       "      <td>Low</td>\n",
       "      <td>35.1</td>\n",
       "      <td>1130</td>\n",
       "      <td>7.52</td>\n",
       "      <td>394.0</td>\n",
       "      <td>12.7</td>\n",
       "      <td>NaN</td>\n",
       "      <td>NaN</td>\n",
       "      <td>9345100000</td>\n",
       "    </tr>\n",
       "    <tr>\n",
       "      <th>2</th>\n",
       "      <td>Afghanistan</td>\n",
       "      <td>1960</td>\n",
       "      <td>9000000</td>\n",
       "      <td>Asia</td>\n",
       "      <td>Southern Asia</td>\n",
       "      <td>Low</td>\n",
       "      <td>38.6</td>\n",
       "      <td>1210</td>\n",
       "      <td>7.45</td>\n",
       "      <td>364.0</td>\n",
       "      <td>13.8</td>\n",
       "      <td>NaN</td>\n",
       "      <td>NaN</td>\n",
       "      <td>10890000000</td>\n",
       "    </tr>\n",
       "    <tr>\n",
       "      <th>3</th>\n",
       "      <td>Afghanistan</td>\n",
       "      <td>1965</td>\n",
       "      <td>9940000</td>\n",
       "      <td>Asia</td>\n",
       "      <td>Southern Asia</td>\n",
       "      <td>Low</td>\n",
       "      <td>42.2</td>\n",
       "      <td>1190</td>\n",
       "      <td>7.45</td>\n",
       "      <td>334.0</td>\n",
       "      <td>15.2</td>\n",
       "      <td>NaN</td>\n",
       "      <td>NaN</td>\n",
       "      <td>11828600000</td>\n",
       "    </tr>\n",
       "    <tr>\n",
       "      <th>4</th>\n",
       "      <td>Afghanistan</td>\n",
       "      <td>1970</td>\n",
       "      <td>11100000</td>\n",
       "      <td>Asia</td>\n",
       "      <td>Southern Asia</td>\n",
       "      <td>Low</td>\n",
       "      <td>45.8</td>\n",
       "      <td>1180</td>\n",
       "      <td>7.45</td>\n",
       "      <td>306.0</td>\n",
       "      <td>17.0</td>\n",
       "      <td>1.36</td>\n",
       "      <td>0.21</td>\n",
       "      <td>13098000000</td>\n",
       "    </tr>\n",
       "  </tbody>\n",
       "</table>\n",
       "</div>"
      ],
      "text/plain": [
       "       country  year  population region     sub_region income_group  \\\n",
       "0  Afghanistan  1950     7750000   Asia  Southern Asia          Low   \n",
       "1  Afghanistan  1955     8270000   Asia  Southern Asia          Low   \n",
       "2  Afghanistan  1960     9000000   Asia  Southern Asia          Low   \n",
       "3  Afghanistan  1965     9940000   Asia  Southern Asia          Low   \n",
       "4  Afghanistan  1970    11100000   Asia  Southern Asia          Low   \n",
       "\n",
       "   life_expectancy  gdp_per_capita  children_per_woman  child_mortality  \\\n",
       "0             32.0            1040                7.57            425.0   \n",
       "1             35.1            1130                7.52            394.0   \n",
       "2             38.6            1210                7.45            364.0   \n",
       "3             42.2            1190                7.45            334.0   \n",
       "4             45.8            1180                7.45            306.0   \n",
       "\n",
       "   pop_density  years_in_school_men  years_in_school_women    gdp_total  \n",
       "0         11.9                  NaN                    NaN   8060000000  \n",
       "1         12.7                  NaN                    NaN   9345100000  \n",
       "2         13.8                  NaN                    NaN  10890000000  \n",
       "3         15.2                  NaN                    NaN  11828600000  \n",
       "4         17.0                 1.36                   0.21  13098000000  "
      ]
     },
     "execution_count": 35,
     "metadata": {},
     "output_type": "execute_result"
    }
   ],
   "source": [
    "world['gdp_total'] = world['gdp_per_capita'] * world['population']\n",
    "world.head()"
   ]
  },
  {
   "cell_type": "markdown",
   "metadata": {
    "slideshow": {
     "slide_type": "fragment"
    }
   },
   "source": [
    "Compute population in millions:"
   ]
  },
  {
   "cell_type": "code",
   "execution_count": 36,
   "metadata": {},
   "outputs": [
    {
     "data": {
      "text/html": [
       "<div>\n",
       "<style scoped>\n",
       "    .dataframe tbody tr th:only-of-type {\n",
       "        vertical-align: middle;\n",
       "    }\n",
       "\n",
       "    .dataframe tbody tr th {\n",
       "        vertical-align: top;\n",
       "    }\n",
       "\n",
       "    .dataframe thead th {\n",
       "        text-align: right;\n",
       "    }\n",
       "</style>\n",
       "<table border=\"1\" class=\"dataframe\">\n",
       "  <thead>\n",
       "    <tr style=\"text-align: right;\">\n",
       "      <th></th>\n",
       "      <th>country</th>\n",
       "      <th>year</th>\n",
       "      <th>population</th>\n",
       "      <th>pop_millions</th>\n",
       "    </tr>\n",
       "  </thead>\n",
       "  <tbody>\n",
       "    <tr>\n",
       "      <th>0</th>\n",
       "      <td>Afghanistan</td>\n",
       "      <td>1950</td>\n",
       "      <td>7750000</td>\n",
       "      <td>7.75</td>\n",
       "    </tr>\n",
       "    <tr>\n",
       "      <th>1</th>\n",
       "      <td>Afghanistan</td>\n",
       "      <td>1955</td>\n",
       "      <td>8270000</td>\n",
       "      <td>8.27</td>\n",
       "    </tr>\n",
       "    <tr>\n",
       "      <th>2</th>\n",
       "      <td>Afghanistan</td>\n",
       "      <td>1960</td>\n",
       "      <td>9000000</td>\n",
       "      <td>9.00</td>\n",
       "    </tr>\n",
       "    <tr>\n",
       "      <th>3</th>\n",
       "      <td>Afghanistan</td>\n",
       "      <td>1965</td>\n",
       "      <td>9940000</td>\n",
       "      <td>9.94</td>\n",
       "    </tr>\n",
       "    <tr>\n",
       "      <th>4</th>\n",
       "      <td>Afghanistan</td>\n",
       "      <td>1970</td>\n",
       "      <td>11100000</td>\n",
       "      <td>11.10</td>\n",
       "    </tr>\n",
       "  </tbody>\n",
       "</table>\n",
       "</div>"
      ],
      "text/plain": [
       "       country  year  population  pop_millions\n",
       "0  Afghanistan  1950     7750000          7.75\n",
       "1  Afghanistan  1955     8270000          8.27\n",
       "2  Afghanistan  1960     9000000          9.00\n",
       "3  Afghanistan  1965     9940000          9.94\n",
       "4  Afghanistan  1970    11100000         11.10"
      ]
     },
     "execution_count": 36,
     "metadata": {},
     "output_type": "execute_result"
    }
   ],
   "source": [
    "world['pop_millions'] = world['population'] / 1e6\n",
    "world[['country', 'year', 'population', 'pop_millions']].head()"
   ]
  },
  {
   "cell_type": "markdown",
   "metadata": {
    "slideshow": {
     "slide_type": "slide"
    }
   },
   "source": [
    "## Bonus: Sorting\n",
    "\n",
    "- It's often convenient to have data in a sorted form\n",
    "- We can sort a DataFrame based on the values in a column\n",
    "- We can also use sorting to answer questions about the extreme (highest / lowest) values in our data"
   ]
  },
  {
   "cell_type": "code",
   "execution_count": 37,
   "metadata": {},
   "outputs": [
    {
     "data": {
      "text/html": [
       "<div>\n",
       "<style scoped>\n",
       "    .dataframe tbody tr th:only-of-type {\n",
       "        vertical-align: middle;\n",
       "    }\n",
       "\n",
       "    .dataframe tbody tr th {\n",
       "        vertical-align: top;\n",
       "    }\n",
       "\n",
       "    .dataframe thead th {\n",
       "        text-align: right;\n",
       "    }\n",
       "</style>\n",
       "<table border=\"1\" class=\"dataframe\">\n",
       "  <thead>\n",
       "    <tr style=\"text-align: right;\">\n",
       "      <th></th>\n",
       "      <th>year</th>\n",
       "      <th>population</th>\n",
       "      <th>life_expectancy</th>\n",
       "      <th>gdp_per_capita</th>\n",
       "      <th>children_per_woman</th>\n",
       "      <th>child_mortality</th>\n",
       "      <th>pop_density</th>\n",
       "      <th>years_in_school_men</th>\n",
       "      <th>years_in_school_women</th>\n",
       "      <th>gdp_total</th>\n",
       "      <th>pop_millions</th>\n",
       "    </tr>\n",
       "  </thead>\n",
       "  <tbody>\n",
       "    <tr>\n",
       "      <th>count</th>\n",
       "      <td>2492.00000</td>\n",
       "      <td>2.492000e+03</td>\n",
       "      <td>2492.000000</td>\n",
       "      <td>2492.000000</td>\n",
       "      <td>2492.000000</td>\n",
       "      <td>2492.000000</td>\n",
       "      <td>2492.000000</td>\n",
       "      <td>1780.000000</td>\n",
       "      <td>1780.000000</td>\n",
       "      <td>2.492000e+03</td>\n",
       "      <td>2492.000000</td>\n",
       "    </tr>\n",
       "    <tr>\n",
       "      <th>mean</th>\n",
       "      <td>1982.50000</td>\n",
       "      <td>2.667661e+07</td>\n",
       "      <td>62.567135</td>\n",
       "      <td>10502.302167</td>\n",
       "      <td>4.353752</td>\n",
       "      <td>105.670024</td>\n",
       "      <td>118.014013</td>\n",
       "      <td>7.687713</td>\n",
       "      <td>6.959556</td>\n",
       "      <td>2.479745e+11</td>\n",
       "      <td>26.676613</td>\n",
       "    </tr>\n",
       "    <tr>\n",
       "      <th>std</th>\n",
       "      <td>20.15969</td>\n",
       "      <td>1.037838e+08</td>\n",
       "      <td>11.518029</td>\n",
       "      <td>15478.942158</td>\n",
       "      <td>2.049655</td>\n",
       "      <td>98.615582</td>\n",
       "      <td>372.055683</td>\n",
       "      <td>3.242840</td>\n",
       "      <td>3.932678</td>\n",
       "      <td>9.965413e+11</td>\n",
       "      <td>103.783759</td>\n",
       "    </tr>\n",
       "    <tr>\n",
       "      <th>min</th>\n",
       "      <td>1950.00000</td>\n",
       "      <td>2.500000e+04</td>\n",
       "      <td>23.800000</td>\n",
       "      <td>247.000000</td>\n",
       "      <td>1.120000</td>\n",
       "      <td>2.200000</td>\n",
       "      <td>0.502000</td>\n",
       "      <td>0.900000</td>\n",
       "      <td>0.210000</td>\n",
       "      <td>4.000000e+07</td>\n",
       "      <td>0.025000</td>\n",
       "    </tr>\n",
       "    <tr>\n",
       "      <th>25%</th>\n",
       "      <td>1965.00000</td>\n",
       "      <td>1.730000e+06</td>\n",
       "      <td>54.200000</td>\n",
       "      <td>1930.000000</td>\n",
       "      <td>2.360000</td>\n",
       "      <td>24.000000</td>\n",
       "      <td>14.275000</td>\n",
       "      <td>5.097500</td>\n",
       "      <td>3.600000</td>\n",
       "      <td>5.791900e+09</td>\n",
       "      <td>1.730000</td>\n",
       "    </tr>\n",
       "    <tr>\n",
       "      <th>50%</th>\n",
       "      <td>1982.50000</td>\n",
       "      <td>5.270000e+06</td>\n",
       "      <td>64.650000</td>\n",
       "      <td>4925.000000</td>\n",
       "      <td>4.340000</td>\n",
       "      <td>72.400000</td>\n",
       "      <td>44.850000</td>\n",
       "      <td>7.635000</td>\n",
       "      <td>6.990000</td>\n",
       "      <td>2.396160e+10</td>\n",
       "      <td>5.270000</td>\n",
       "    </tr>\n",
       "    <tr>\n",
       "      <th>75%</th>\n",
       "      <td>2000.00000</td>\n",
       "      <td>1.600000e+07</td>\n",
       "      <td>71.600000</td>\n",
       "      <td>12700.000000</td>\n",
       "      <td>6.300000</td>\n",
       "      <td>167.000000</td>\n",
       "      <td>108.000000</td>\n",
       "      <td>10.100000</td>\n",
       "      <td>10.000000</td>\n",
       "      <td>1.261818e+11</td>\n",
       "      <td>16.000000</td>\n",
       "    </tr>\n",
       "    <tr>\n",
       "      <th>max</th>\n",
       "      <td>2015.00000</td>\n",
       "      <td>1.400000e+09</td>\n",
       "      <td>83.800000</td>\n",
       "      <td>178000.000000</td>\n",
       "      <td>8.870000</td>\n",
       "      <td>473.000000</td>\n",
       "      <td>7910.000000</td>\n",
       "      <td>15.300000</td>\n",
       "      <td>15.700000</td>\n",
       "      <td>1.904000e+13</td>\n",
       "      <td>1400.000000</td>\n",
       "    </tr>\n",
       "  </tbody>\n",
       "</table>\n",
       "</div>"
      ],
      "text/plain": [
       "             year    population  life_expectancy  gdp_per_capita  \\\n",
       "count  2492.00000  2.492000e+03      2492.000000     2492.000000   \n",
       "mean   1982.50000  2.667661e+07        62.567135    10502.302167   \n",
       "std      20.15969  1.037838e+08        11.518029    15478.942158   \n",
       "min    1950.00000  2.500000e+04        23.800000      247.000000   \n",
       "25%    1965.00000  1.730000e+06        54.200000     1930.000000   \n",
       "50%    1982.50000  5.270000e+06        64.650000     4925.000000   \n",
       "75%    2000.00000  1.600000e+07        71.600000    12700.000000   \n",
       "max    2015.00000  1.400000e+09        83.800000   178000.000000   \n",
       "\n",
       "       children_per_woman  child_mortality  pop_density  years_in_school_men  \\\n",
       "count         2492.000000      2492.000000  2492.000000          1780.000000   \n",
       "mean             4.353752       105.670024   118.014013             7.687713   \n",
       "std              2.049655        98.615582   372.055683             3.242840   \n",
       "min              1.120000         2.200000     0.502000             0.900000   \n",
       "25%              2.360000        24.000000    14.275000             5.097500   \n",
       "50%              4.340000        72.400000    44.850000             7.635000   \n",
       "75%              6.300000       167.000000   108.000000            10.100000   \n",
       "max              8.870000       473.000000  7910.000000            15.300000   \n",
       "\n",
       "       years_in_school_women     gdp_total  pop_millions  \n",
       "count            1780.000000  2.492000e+03   2492.000000  \n",
       "mean                6.959556  2.479745e+11     26.676613  \n",
       "std                 3.932678  9.965413e+11    103.783759  \n",
       "min                 0.210000  4.000000e+07      0.025000  \n",
       "25%                 3.600000  5.791900e+09      1.730000  \n",
       "50%                 6.990000  2.396160e+10      5.270000  \n",
       "75%                10.000000  1.261818e+11     16.000000  \n",
       "max                15.700000  1.904000e+13   1400.000000  "
      ]
     },
     "execution_count": 37,
     "metadata": {},
     "output_type": "execute_result"
    }
   ],
   "source": [
    "world.describe()"
   ]
  },
  {
   "cell_type": "markdown",
   "metadata": {},
   "source": [
    "From the summary statistics, we can see that the highest life expectancy in our data is 83.8 years, but we don't know which country and year this is.\n",
    "\n",
    "We can find out by sorting on the `life_expectancy` column, from highest to lowest, and displaying the first few rows:"
   ]
  },
  {
   "cell_type": "code",
   "execution_count": 38,
   "metadata": {},
   "outputs": [
    {
     "data": {
      "text/html": [
       "<div>\n",
       "<style scoped>\n",
       "    .dataframe tbody tr th:only-of-type {\n",
       "        vertical-align: middle;\n",
       "    }\n",
       "\n",
       "    .dataframe tbody tr th {\n",
       "        vertical-align: top;\n",
       "    }\n",
       "\n",
       "    .dataframe thead th {\n",
       "        text-align: right;\n",
       "    }\n",
       "</style>\n",
       "<table border=\"1\" class=\"dataframe\">\n",
       "  <thead>\n",
       "    <tr style=\"text-align: right;\">\n",
       "      <th></th>\n",
       "      <th>country</th>\n",
       "      <th>year</th>\n",
       "      <th>population</th>\n",
       "      <th>region</th>\n",
       "      <th>sub_region</th>\n",
       "      <th>income_group</th>\n",
       "      <th>life_expectancy</th>\n",
       "      <th>gdp_per_capita</th>\n",
       "      <th>children_per_woman</th>\n",
       "      <th>child_mortality</th>\n",
       "      <th>pop_density</th>\n",
       "      <th>years_in_school_men</th>\n",
       "      <th>years_in_school_women</th>\n",
       "      <th>gdp_total</th>\n",
       "      <th>pop_millions</th>\n",
       "    </tr>\n",
       "  </thead>\n",
       "  <tbody>\n",
       "    <tr>\n",
       "      <th>1119</th>\n",
       "      <td>Japan</td>\n",
       "      <td>2015</td>\n",
       "      <td>128000000</td>\n",
       "      <td>Asia</td>\n",
       "      <td>Eastern Asia</td>\n",
       "      <td>High</td>\n",
       "      <td>83.8</td>\n",
       "      <td>37800</td>\n",
       "      <td>1.44</td>\n",
       "      <td>3.0</td>\n",
       "      <td>351.0</td>\n",
       "      <td>15.1</td>\n",
       "      <td>15.5</td>\n",
       "      <td>4838400000000</td>\n",
       "      <td>128.00</td>\n",
       "    </tr>\n",
       "    <tr>\n",
       "      <th>1959</th>\n",
       "      <td>Singapore</td>\n",
       "      <td>2015</td>\n",
       "      <td>5540000</td>\n",
       "      <td>Asia</td>\n",
       "      <td>South-eastern Asia</td>\n",
       "      <td>High</td>\n",
       "      <td>83.6</td>\n",
       "      <td>80900</td>\n",
       "      <td>1.24</td>\n",
       "      <td>2.7</td>\n",
       "      <td>7910.0</td>\n",
       "      <td>14.0</td>\n",
       "      <td>13.8</td>\n",
       "      <td>448186000000</td>\n",
       "      <td>5.54</td>\n",
       "    </tr>\n",
       "    <tr>\n",
       "      <th>2155</th>\n",
       "      <td>Switzerland</td>\n",
       "      <td>2015</td>\n",
       "      <td>8320000</td>\n",
       "      <td>Europe</td>\n",
       "      <td>Western Europe</td>\n",
       "      <td>High</td>\n",
       "      <td>83.1</td>\n",
       "      <td>56500</td>\n",
       "      <td>1.54</td>\n",
       "      <td>4.1</td>\n",
       "      <td>211.0</td>\n",
       "      <td>14.6</td>\n",
       "      <td>14.4</td>\n",
       "      <td>470080000000</td>\n",
       "      <td>8.32</td>\n",
       "    </tr>\n",
       "    <tr>\n",
       "      <th>2071</th>\n",
       "      <td>Spain</td>\n",
       "      <td>2015</td>\n",
       "      <td>46400000</td>\n",
       "      <td>Europe</td>\n",
       "      <td>Southern Europe</td>\n",
       "      <td>High</td>\n",
       "      <td>82.9</td>\n",
       "      <td>32200</td>\n",
       "      <td>1.35</td>\n",
       "      <td>3.4</td>\n",
       "      <td>93.0</td>\n",
       "      <td>12.8</td>\n",
       "      <td>13.5</td>\n",
       "      <td>1494080000000</td>\n",
       "      <td>46.40</td>\n",
       "    </tr>\n",
       "    <tr>\n",
       "      <th>1118</th>\n",
       "      <td>Japan</td>\n",
       "      <td>2010</td>\n",
       "      <td>129000000</td>\n",
       "      <td>Asia</td>\n",
       "      <td>Eastern Asia</td>\n",
       "      <td>High</td>\n",
       "      <td>82.8</td>\n",
       "      <td>35800</td>\n",
       "      <td>1.37</td>\n",
       "      <td>3.2</td>\n",
       "      <td>353.0</td>\n",
       "      <td>14.6</td>\n",
       "      <td>14.9</td>\n",
       "      <td>4618200000000</td>\n",
       "      <td>129.00</td>\n",
       "    </tr>\n",
       "  </tbody>\n",
       "</table>\n",
       "</div>"
      ],
      "text/plain": [
       "          country  year  population  region          sub_region income_group  \\\n",
       "1119        Japan  2015   128000000    Asia        Eastern Asia         High   \n",
       "1959    Singapore  2015     5540000    Asia  South-eastern Asia         High   \n",
       "2155  Switzerland  2015     8320000  Europe      Western Europe         High   \n",
       "2071        Spain  2015    46400000  Europe     Southern Europe         High   \n",
       "1118        Japan  2010   129000000    Asia        Eastern Asia         High   \n",
       "\n",
       "      life_expectancy  gdp_per_capita  children_per_woman  child_mortality  \\\n",
       "1119             83.8           37800                1.44              3.0   \n",
       "1959             83.6           80900                1.24              2.7   \n",
       "2155             83.1           56500                1.54              4.1   \n",
       "2071             82.9           32200                1.35              3.4   \n",
       "1118             82.8           35800                1.37              3.2   \n",
       "\n",
       "      pop_density  years_in_school_men  years_in_school_women      gdp_total  \\\n",
       "1119        351.0                 15.1                   15.5  4838400000000   \n",
       "1959       7910.0                 14.0                   13.8   448186000000   \n",
       "2155        211.0                 14.6                   14.4   470080000000   \n",
       "2071         93.0                 12.8                   13.5  1494080000000   \n",
       "1118        353.0                 14.6                   14.9  4618200000000   \n",
       "\n",
       "      pop_millions  \n",
       "1119        128.00  \n",
       "1959          5.54  \n",
       "2155          8.32  \n",
       "2071         46.40  \n",
       "1118        129.00  "
      ]
     },
     "execution_count": 38,
     "metadata": {},
     "output_type": "execute_result"
    }
   ],
   "source": [
    "world_sorted_life_exp = world.sort_values('life_expectancy', ascending=False)\n",
    "world_sorted_life_exp.head()"
   ]
  },
  {
   "cell_type": "markdown",
   "metadata": {},
   "source": [
    "We can see that the highest life expectancy was Japan in 2015, followed closely by Singapore and Switzerland in the same year."
   ]
  },
  {
   "cell_type": "markdown",
   "metadata": {
    "slideshow": {
     "slide_type": "slide"
    }
   },
   "source": [
    "## Grouping and Aggregation\n",
    "\n",
    "Grouping and aggregation can be used to calculate statistics on groups in the data.\n",
    "\n",
    "For simplicity, in this section we'll work with the data from year 2015 only."
   ]
  },
  {
   "cell_type": "code",
   "execution_count": 39,
   "metadata": {},
   "outputs": [
    {
     "data": {
      "text/html": [
       "<div>\n",
       "<style scoped>\n",
       "    .dataframe tbody tr th:only-of-type {\n",
       "        vertical-align: middle;\n",
       "    }\n",
       "\n",
       "    .dataframe tbody tr th {\n",
       "        vertical-align: top;\n",
       "    }\n",
       "\n",
       "    .dataframe thead th {\n",
       "        text-align: right;\n",
       "    }\n",
       "</style>\n",
       "<table border=\"1\" class=\"dataframe\">\n",
       "  <thead>\n",
       "    <tr style=\"text-align: right;\">\n",
       "      <th></th>\n",
       "      <th>country</th>\n",
       "      <th>year</th>\n",
       "      <th>population</th>\n",
       "      <th>region</th>\n",
       "      <th>sub_region</th>\n",
       "      <th>income_group</th>\n",
       "      <th>life_expectancy</th>\n",
       "      <th>gdp_per_capita</th>\n",
       "      <th>children_per_woman</th>\n",
       "      <th>child_mortality</th>\n",
       "      <th>pop_density</th>\n",
       "      <th>years_in_school_men</th>\n",
       "      <th>years_in_school_women</th>\n",
       "      <th>gdp_total</th>\n",
       "      <th>pop_millions</th>\n",
       "    </tr>\n",
       "  </thead>\n",
       "  <tbody>\n",
       "    <tr>\n",
       "      <th>13</th>\n",
       "      <td>Afghanistan</td>\n",
       "      <td>2015</td>\n",
       "      <td>33700000</td>\n",
       "      <td>Asia</td>\n",
       "      <td>Southern Asia</td>\n",
       "      <td>Low</td>\n",
       "      <td>57.9</td>\n",
       "      <td>1750</td>\n",
       "      <td>4.80</td>\n",
       "      <td>73.2</td>\n",
       "      <td>51.7</td>\n",
       "      <td>4.13</td>\n",
       "      <td>0.98</td>\n",
       "      <td>58975000000</td>\n",
       "      <td>33.7000</td>\n",
       "    </tr>\n",
       "    <tr>\n",
       "      <th>27</th>\n",
       "      <td>Albania</td>\n",
       "      <td>2015</td>\n",
       "      <td>2920000</td>\n",
       "      <td>Europe</td>\n",
       "      <td>Southern Europe</td>\n",
       "      <td>Upper middle</td>\n",
       "      <td>77.6</td>\n",
       "      <td>11000</td>\n",
       "      <td>1.71</td>\n",
       "      <td>14.0</td>\n",
       "      <td>107.0</td>\n",
       "      <td>12.00</td>\n",
       "      <td>12.30</td>\n",
       "      <td>32120000000</td>\n",
       "      <td>2.9200</td>\n",
       "    </tr>\n",
       "    <tr>\n",
       "      <th>41</th>\n",
       "      <td>Algeria</td>\n",
       "      <td>2015</td>\n",
       "      <td>39900000</td>\n",
       "      <td>Africa</td>\n",
       "      <td>Northern Africa</td>\n",
       "      <td>Upper middle</td>\n",
       "      <td>77.3</td>\n",
       "      <td>13700</td>\n",
       "      <td>2.84</td>\n",
       "      <td>25.5</td>\n",
       "      <td>16.7</td>\n",
       "      <td>8.52</td>\n",
       "      <td>7.74</td>\n",
       "      <td>546630000000</td>\n",
       "      <td>39.9000</td>\n",
       "    </tr>\n",
       "    <tr>\n",
       "      <th>55</th>\n",
       "      <td>Angola</td>\n",
       "      <td>2015</td>\n",
       "      <td>27900000</td>\n",
       "      <td>Africa</td>\n",
       "      <td>Sub-Saharan Africa</td>\n",
       "      <td>Lower middle</td>\n",
       "      <td>64.0</td>\n",
       "      <td>6230</td>\n",
       "      <td>5.77</td>\n",
       "      <td>86.5</td>\n",
       "      <td>22.3</td>\n",
       "      <td>7.24</td>\n",
       "      <td>5.31</td>\n",
       "      <td>173817000000</td>\n",
       "      <td>27.9000</td>\n",
       "    </tr>\n",
       "    <tr>\n",
       "      <th>69</th>\n",
       "      <td>Antigua and Barbuda</td>\n",
       "      <td>2015</td>\n",
       "      <td>99900</td>\n",
       "      <td>Americas</td>\n",
       "      <td>Latin America and the Caribbean</td>\n",
       "      <td>High</td>\n",
       "      <td>77.2</td>\n",
       "      <td>20100</td>\n",
       "      <td>2.06</td>\n",
       "      <td>8.7</td>\n",
       "      <td>227.0</td>\n",
       "      <td>13.20</td>\n",
       "      <td>14.50</td>\n",
       "      <td>2007990000</td>\n",
       "      <td>0.0999</td>\n",
       "    </tr>\n",
       "  </tbody>\n",
       "</table>\n",
       "</div>"
      ],
      "text/plain": [
       "                country  year  population    region  \\\n",
       "13          Afghanistan  2015    33700000      Asia   \n",
       "27              Albania  2015     2920000    Europe   \n",
       "41              Algeria  2015    39900000    Africa   \n",
       "55               Angola  2015    27900000    Africa   \n",
       "69  Antigua and Barbuda  2015       99900  Americas   \n",
       "\n",
       "                         sub_region  income_group  life_expectancy  \\\n",
       "13                    Southern Asia           Low             57.9   \n",
       "27                  Southern Europe  Upper middle             77.6   \n",
       "41                  Northern Africa  Upper middle             77.3   \n",
       "55               Sub-Saharan Africa  Lower middle             64.0   \n",
       "69  Latin America and the Caribbean          High             77.2   \n",
       "\n",
       "    gdp_per_capita  children_per_woman  child_mortality  pop_density  \\\n",
       "13            1750                4.80             73.2         51.7   \n",
       "27           11000                1.71             14.0        107.0   \n",
       "41           13700                2.84             25.5         16.7   \n",
       "55            6230                5.77             86.5         22.3   \n",
       "69           20100                2.06              8.7        227.0   \n",
       "\n",
       "    years_in_school_men  years_in_school_women     gdp_total  pop_millions  \n",
       "13                 4.13                   0.98   58975000000       33.7000  \n",
       "27                12.00                  12.30   32120000000        2.9200  \n",
       "41                 8.52                   7.74  546630000000       39.9000  \n",
       "55                 7.24                   5.31  173817000000       27.9000  \n",
       "69                13.20                  14.50    2007990000        0.0999  "
      ]
     },
     "execution_count": 39,
     "metadata": {},
     "output_type": "execute_result"
    }
   ],
   "source": [
    "world_2015 = world[world['year'] == 2015]\n",
    "world_2015.head()"
   ]
  },
  {
   "cell_type": "markdown",
   "metadata": {
    "slideshow": {
     "slide_type": "fragment"
    }
   },
   "source": [
    "Suppose we want to find the population totals *in each region* of our data.\n",
    "- Using the techniques we just learned, we could extract the rows for Asia, take the sum of the population column, and then repeat this process for each of the other regions.\n",
    "- This would be very slow and tedious!"
   ]
  },
  {
   "cell_type": "markdown",
   "metadata": {
    "slideshow": {
     "slide_type": "fragment"
    }
   },
   "source": [
    "Luckily, with `pandas` there is a better way: using aggregation to compute statistics for groups within our data.\n",
    "- Similar to pivot tables in Excel or `GROUPBY` queries in SQL."
   ]
  },
  {
   "cell_type": "markdown",
   "metadata": {
    "slideshow": {
     "slide_type": "fragment"
    }
   },
   "source": [
    "Aggregation is a \"split-apply-combine\" technique:\n",
    "\n",
    "![Image credit Jake VanderPlas](img/split-apply-combine.png)\n",
    "\n",
    "*Image credit Jake VanderPlas*"
   ]
  },
  {
   "cell_type": "markdown",
   "metadata": {
    "slideshow": {
     "slide_type": "fragment"
    }
   },
   "source": [
    "For simple aggregations, we can use the `groupby()` method chained with a summary statistic (e.g., `sum()`, `mean()`, `median()`, `max()`, etc.)\n",
    "\n",
    "We will group by `region`, select the `pop_millions` column, and take the sum:"
   ]
  },
  {
   "cell_type": "code",
   "execution_count": 40,
   "metadata": {
    "slideshow": {
     "slide_type": "-"
    }
   },
   "outputs": [
    {
     "data": {
      "text/plain": [
       "region\n",
       "Africa      1191.9177\n",
       "Americas     982.6889\n",
       "Asia        4391.6350\n",
       "Europe       740.4830\n",
       "Oceania       38.4860\n",
       "Name: pop_millions, dtype: float64"
      ]
     },
     "execution_count": 40,
     "metadata": {},
     "output_type": "execute_result"
    }
   ],
   "source": [
    "world_2015.groupby('region')['pop_millions'].sum()"
   ]
  },
  {
   "cell_type": "markdown",
   "metadata": {
    "slideshow": {
     "slide_type": "fragment"
    }
   },
   "source": [
    "- By default, `groupby()` assigns the variable that we're grouping on (in this case `region`) to the index of the output data\n",
    "- If we use the keyword argument `as_index=False`, the grouping variable is instead assigned to a regular column\n",
    "  - This can be useful in some situations, such as data visualization functions which expect the relevant variables to be in columns rather than the index"
   ]
  },
  {
   "cell_type": "code",
   "execution_count": 41,
   "metadata": {
    "slideshow": {
     "slide_type": "-"
    }
   },
   "outputs": [
    {
     "data": {
      "text/html": [
       "<div>\n",
       "<style scoped>\n",
       "    .dataframe tbody tr th:only-of-type {\n",
       "        vertical-align: middle;\n",
       "    }\n",
       "\n",
       "    .dataframe tbody tr th {\n",
       "        vertical-align: top;\n",
       "    }\n",
       "\n",
       "    .dataframe thead th {\n",
       "        text-align: right;\n",
       "    }\n",
       "</style>\n",
       "<table border=\"1\" class=\"dataframe\">\n",
       "  <thead>\n",
       "    <tr style=\"text-align: right;\">\n",
       "      <th></th>\n",
       "      <th>region</th>\n",
       "      <th>pop_millions</th>\n",
       "    </tr>\n",
       "  </thead>\n",
       "  <tbody>\n",
       "    <tr>\n",
       "      <th>0</th>\n",
       "      <td>Africa</td>\n",
       "      <td>1191.9177</td>\n",
       "    </tr>\n",
       "    <tr>\n",
       "      <th>1</th>\n",
       "      <td>Americas</td>\n",
       "      <td>982.6889</td>\n",
       "    </tr>\n",
       "    <tr>\n",
       "      <th>2</th>\n",
       "      <td>Asia</td>\n",
       "      <td>4391.6350</td>\n",
       "    </tr>\n",
       "    <tr>\n",
       "      <th>3</th>\n",
       "      <td>Europe</td>\n",
       "      <td>740.4830</td>\n",
       "    </tr>\n",
       "    <tr>\n",
       "      <th>4</th>\n",
       "      <td>Oceania</td>\n",
       "      <td>38.4860</td>\n",
       "    </tr>\n",
       "  </tbody>\n",
       "</table>\n",
       "</div>"
      ],
      "text/plain": [
       "     region  pop_millions\n",
       "0    Africa     1191.9177\n",
       "1  Americas      982.6889\n",
       "2      Asia     4391.6350\n",
       "3    Europe      740.4830\n",
       "4   Oceania       38.4860"
      ]
     },
     "execution_count": 41,
     "metadata": {},
     "output_type": "execute_result"
    }
   ],
   "source": [
    "world_2015.groupby('region', as_index=False)['pop_millions'].sum()"
   ]
  },
  {
   "cell_type": "markdown",
   "metadata": {
    "slideshow": {
     "slide_type": "fragment"
    }
   },
   "source": [
    "Now let's find the highest population density in each region by aggregating the `pop_density` column and using `max()` instead of `sum()`:"
   ]
  },
  {
   "cell_type": "code",
   "execution_count": 42,
   "metadata": {
    "slideshow": {
     "slide_type": "-"
    }
   },
   "outputs": [
    {
     "data": {
      "text/html": [
       "<div>\n",
       "<style scoped>\n",
       "    .dataframe tbody tr th:only-of-type {\n",
       "        vertical-align: middle;\n",
       "    }\n",
       "\n",
       "    .dataframe tbody tr th {\n",
       "        vertical-align: top;\n",
       "    }\n",
       "\n",
       "    .dataframe thead th {\n",
       "        text-align: right;\n",
       "    }\n",
       "</style>\n",
       "<table border=\"1\" class=\"dataframe\">\n",
       "  <thead>\n",
       "    <tr style=\"text-align: right;\">\n",
       "      <th></th>\n",
       "      <th>region</th>\n",
       "      <th>pop_density</th>\n",
       "    </tr>\n",
       "  </thead>\n",
       "  <tbody>\n",
       "    <tr>\n",
       "      <th>0</th>\n",
       "      <td>Africa</td>\n",
       "      <td>620.0</td>\n",
       "    </tr>\n",
       "    <tr>\n",
       "      <th>1</th>\n",
       "      <td>Americas</td>\n",
       "      <td>661.0</td>\n",
       "    </tr>\n",
       "    <tr>\n",
       "      <th>2</th>\n",
       "      <td>Asia</td>\n",
       "      <td>7910.0</td>\n",
       "    </tr>\n",
       "    <tr>\n",
       "      <th>3</th>\n",
       "      <td>Europe</td>\n",
       "      <td>1340.0</td>\n",
       "    </tr>\n",
       "    <tr>\n",
       "      <th>4</th>\n",
       "      <td>Oceania</td>\n",
       "      <td>148.0</td>\n",
       "    </tr>\n",
       "  </tbody>\n",
       "</table>\n",
       "</div>"
      ],
      "text/plain": [
       "     region  pop_density\n",
       "0    Africa        620.0\n",
       "1  Americas        661.0\n",
       "2      Asia       7910.0\n",
       "3    Europe       1340.0\n",
       "4   Oceania        148.0"
      ]
     },
     "execution_count": 42,
     "metadata": {},
     "output_type": "execute_result"
    }
   ],
   "source": [
    "world_2015.groupby('region', as_index=False)['pop_density'].max()"
   ]
  },
  {
   "cell_type": "markdown",
   "metadata": {
    "slideshow": {
     "slide_type": "fragment"
    }
   },
   "source": [
    "We can aggregate multiple columns at once. For example, let's find the mean life expectancy and GDP per capita in each region."
   ]
  },
  {
   "cell_type": "code",
   "execution_count": 43,
   "metadata": {
    "slideshow": {
     "slide_type": "-"
    }
   },
   "outputs": [
    {
     "data": {
      "text/html": [
       "<div>\n",
       "<style scoped>\n",
       "    .dataframe tbody tr th:only-of-type {\n",
       "        vertical-align: middle;\n",
       "    }\n",
       "\n",
       "    .dataframe tbody tr th {\n",
       "        vertical-align: top;\n",
       "    }\n",
       "\n",
       "    .dataframe thead th {\n",
       "        text-align: right;\n",
       "    }\n",
       "</style>\n",
       "<table border=\"1\" class=\"dataframe\">\n",
       "  <thead>\n",
       "    <tr style=\"text-align: right;\">\n",
       "      <th></th>\n",
       "      <th>region</th>\n",
       "      <th>life_expectancy</th>\n",
       "      <th>gdp_per_capita</th>\n",
       "    </tr>\n",
       "  </thead>\n",
       "  <tbody>\n",
       "    <tr>\n",
       "      <th>0</th>\n",
       "      <td>Africa</td>\n",
       "      <td>63.650000</td>\n",
       "      <td>5305.961538</td>\n",
       "    </tr>\n",
       "    <tr>\n",
       "      <th>1</th>\n",
       "      <td>Americas</td>\n",
       "      <td>75.377419</td>\n",
       "      <td>15782.580645</td>\n",
       "    </tr>\n",
       "    <tr>\n",
       "      <th>2</th>\n",
       "      <td>Asia</td>\n",
       "      <td>73.772340</td>\n",
       "      <td>19755.744681</td>\n",
       "    </tr>\n",
       "    <tr>\n",
       "      <th>3</th>\n",
       "      <td>Europe</td>\n",
       "      <td>78.594872</td>\n",
       "      <td>31872.307692</td>\n",
       "    </tr>\n",
       "    <tr>\n",
       "      <th>4</th>\n",
       "      <td>Oceania</td>\n",
       "      <td>68.900000</td>\n",
       "      <td>11932.222222</td>\n",
       "    </tr>\n",
       "  </tbody>\n",
       "</table>\n",
       "</div>"
      ],
      "text/plain": [
       "     region  life_expectancy  gdp_per_capita\n",
       "0    Africa        63.650000     5305.961538\n",
       "1  Americas        75.377419    15782.580645\n",
       "2      Asia        73.772340    19755.744681\n",
       "3    Europe        78.594872    31872.307692\n",
       "4   Oceania        68.900000    11932.222222"
      ]
     },
     "execution_count": 43,
     "metadata": {},
     "output_type": "execute_result"
    }
   ],
   "source": [
    "world_2015.groupby('region', as_index=False)[['life_expectancy', 'gdp_per_capita']].mean()"
   ]
  },
  {
   "cell_type": "markdown",
   "metadata": {},
   "source": [
    "> Note: For a more careful analysis, a population-weighted mean would be preferred in the above calculation, to account for the differences in population among countries. Computing a [weighted mean](https://www.statisticshowto.com/probability-and-statistics/statistics-definitions/weighted-mean/) within a `pandas` aggregation is a bit more involved and beyond the scope of this lesson, so we'll just use the mean."
   ]
  },
  {
   "cell_type": "markdown",
   "metadata": {
    "slideshow": {
     "slide_type": "slide"
    }
   },
   "source": [
    "## Bonus: Fancier Aggregation\n",
    "\n",
    "We can compute sub-totals by grouping on multiple columns:"
   ]
  },
  {
   "cell_type": "code",
   "execution_count": 44,
   "metadata": {
    "slideshow": {
     "slide_type": "-"
    }
   },
   "outputs": [
    {
     "data": {
      "text/html": [
       "<div>\n",
       "<style scoped>\n",
       "    .dataframe tbody tr th:only-of-type {\n",
       "        vertical-align: middle;\n",
       "    }\n",
       "\n",
       "    .dataframe tbody tr th {\n",
       "        vertical-align: top;\n",
       "    }\n",
       "\n",
       "    .dataframe thead th {\n",
       "        text-align: right;\n",
       "    }\n",
       "</style>\n",
       "<table border=\"1\" class=\"dataframe\">\n",
       "  <thead>\n",
       "    <tr style=\"text-align: right;\">\n",
       "      <th></th>\n",
       "      <th>region</th>\n",
       "      <th>income_group</th>\n",
       "      <th>pop_millions</th>\n",
       "    </tr>\n",
       "  </thead>\n",
       "  <tbody>\n",
       "    <tr>\n",
       "      <th>0</th>\n",
       "      <td>Africa</td>\n",
       "      <td>High</td>\n",
       "      <td>0.0937</td>\n",
       "    </tr>\n",
       "    <tr>\n",
       "      <th>1</th>\n",
       "      <td>Africa</td>\n",
       "      <td>Low</td>\n",
       "      <td>543.5870</td>\n",
       "    </tr>\n",
       "    <tr>\n",
       "      <th>2</th>\n",
       "      <td>Africa</td>\n",
       "      <td>Lower middle</td>\n",
       "      <td>537.7970</td>\n",
       "    </tr>\n",
       "    <tr>\n",
       "      <th>3</th>\n",
       "      <td>Africa</td>\n",
       "      <td>Upper middle</td>\n",
       "      <td>110.4400</td>\n",
       "    </tr>\n",
       "    <tr>\n",
       "      <th>4</th>\n",
       "      <td>Americas</td>\n",
       "      <td>High</td>\n",
       "      <td>426.6309</td>\n",
       "    </tr>\n",
       "    <tr>\n",
       "      <th>5</th>\n",
       "      <td>Americas</td>\n",
       "      <td>Low</td>\n",
       "      <td>10.7000</td>\n",
       "    </tr>\n",
       "    <tr>\n",
       "      <th>6</th>\n",
       "      <td>Americas</td>\n",
       "      <td>Lower middle</td>\n",
       "      <td>32.0500</td>\n",
       "    </tr>\n",
       "    <tr>\n",
       "      <th>7</th>\n",
       "      <td>Americas</td>\n",
       "      <td>Upper middle</td>\n",
       "      <td>513.3080</td>\n",
       "    </tr>\n",
       "    <tr>\n",
       "      <th>8</th>\n",
       "      <td>Asia</td>\n",
       "      <td>High</td>\n",
       "      <td>246.1000</td>\n",
       "    </tr>\n",
       "    <tr>\n",
       "      <th>9</th>\n",
       "      <td>Asia</td>\n",
       "      <td>Low</td>\n",
       "      <td>141.7500</td>\n",
       "    </tr>\n",
       "    <tr>\n",
       "      <th>10</th>\n",
       "      <td>Asia</td>\n",
       "      <td>Lower middle</td>\n",
       "      <td>2259.3470</td>\n",
       "    </tr>\n",
       "    <tr>\n",
       "      <th>11</th>\n",
       "      <td>Asia</td>\n",
       "      <td>Upper middle</td>\n",
       "      <td>1744.4380</td>\n",
       "    </tr>\n",
       "    <tr>\n",
       "      <th>12</th>\n",
       "      <td>Europe</td>\n",
       "      <td>High</td>\n",
       "      <td>493.1250</td>\n",
       "    </tr>\n",
       "    <tr>\n",
       "      <th>13</th>\n",
       "      <td>Europe</td>\n",
       "      <td>Lower middle</td>\n",
       "      <td>48.7700</td>\n",
       "    </tr>\n",
       "    <tr>\n",
       "      <th>14</th>\n",
       "      <td>Europe</td>\n",
       "      <td>Upper middle</td>\n",
       "      <td>198.5880</td>\n",
       "    </tr>\n",
       "    <tr>\n",
       "      <th>15</th>\n",
       "      <td>Oceania</td>\n",
       "      <td>High</td>\n",
       "      <td>28.4100</td>\n",
       "    </tr>\n",
       "    <tr>\n",
       "      <th>16</th>\n",
       "      <td>Oceania</td>\n",
       "      <td>Lower middle</td>\n",
       "      <td>8.8840</td>\n",
       "    </tr>\n",
       "    <tr>\n",
       "      <th>17</th>\n",
       "      <td>Oceania</td>\n",
       "      <td>Upper middle</td>\n",
       "      <td>1.1920</td>\n",
       "    </tr>\n",
       "  </tbody>\n",
       "</table>\n",
       "</div>"
      ],
      "text/plain": [
       "      region  income_group  pop_millions\n",
       "0     Africa          High        0.0937\n",
       "1     Africa           Low      543.5870\n",
       "2     Africa  Lower middle      537.7970\n",
       "3     Africa  Upper middle      110.4400\n",
       "4   Americas          High      426.6309\n",
       "5   Americas           Low       10.7000\n",
       "6   Americas  Lower middle       32.0500\n",
       "7   Americas  Upper middle      513.3080\n",
       "8       Asia          High      246.1000\n",
       "9       Asia           Low      141.7500\n",
       "10      Asia  Lower middle     2259.3470\n",
       "11      Asia  Upper middle     1744.4380\n",
       "12    Europe          High      493.1250\n",
       "13    Europe  Lower middle       48.7700\n",
       "14    Europe  Upper middle      198.5880\n",
       "15   Oceania          High       28.4100\n",
       "16   Oceania  Lower middle        8.8840\n",
       "17   Oceania  Upper middle        1.1920"
      ]
     },
     "execution_count": 44,
     "metadata": {},
     "output_type": "execute_result"
    }
   ],
   "source": [
    "world_2015.groupby(['region', 'income_group'], as_index=False)['pop_millions'].sum()"
   ]
  },
  {
   "cell_type": "markdown",
   "metadata": {
    "slideshow": {
     "slide_type": "-"
    }
   },
   "source": [
    "We can use the `agg` method to compute multiple aggregated statistics on our data, for example minimum and maximum country populations in each region:"
   ]
  },
  {
   "cell_type": "code",
   "execution_count": 45,
   "metadata": {
    "slideshow": {
     "slide_type": "-"
    }
   },
   "outputs": [
    {
     "data": {
      "text/html": [
       "<div>\n",
       "<style scoped>\n",
       "    .dataframe tbody tr th:only-of-type {\n",
       "        vertical-align: middle;\n",
       "    }\n",
       "\n",
       "    .dataframe tbody tr th {\n",
       "        vertical-align: top;\n",
       "    }\n",
       "\n",
       "    .dataframe thead th {\n",
       "        text-align: right;\n",
       "    }\n",
       "</style>\n",
       "<table border=\"1\" class=\"dataframe\">\n",
       "  <thead>\n",
       "    <tr style=\"text-align: right;\">\n",
       "      <th></th>\n",
       "      <th>min</th>\n",
       "      <th>max</th>\n",
       "    </tr>\n",
       "    <tr>\n",
       "      <th>region</th>\n",
       "      <th></th>\n",
       "      <th></th>\n",
       "    </tr>\n",
       "  </thead>\n",
       "  <tbody>\n",
       "    <tr>\n",
       "      <th>Africa</th>\n",
       "      <td>0.0937</td>\n",
       "      <td>181.0</td>\n",
       "    </tr>\n",
       "    <tr>\n",
       "      <th>Americas</th>\n",
       "      <td>0.0999</td>\n",
       "      <td>320.0</td>\n",
       "    </tr>\n",
       "    <tr>\n",
       "      <th>Asia</th>\n",
       "      <td>0.4180</td>\n",
       "      <td>1400.0</td>\n",
       "    </tr>\n",
       "    <tr>\n",
       "      <th>Europe</th>\n",
       "      <td>0.3300</td>\n",
       "      <td>144.0</td>\n",
       "    </tr>\n",
       "    <tr>\n",
       "      <th>Oceania</th>\n",
       "      <td>0.1060</td>\n",
       "      <td>23.8</td>\n",
       "    </tr>\n",
       "  </tbody>\n",
       "</table>\n",
       "</div>"
      ],
      "text/plain": [
       "             min     max\n",
       "region                  \n",
       "Africa    0.0937   181.0\n",
       "Americas  0.0999   320.0\n",
       "Asia      0.4180  1400.0\n",
       "Europe    0.3300   144.0\n",
       "Oceania   0.1060    23.8"
      ]
     },
     "execution_count": 45,
     "metadata": {},
     "output_type": "execute_result"
    }
   ],
   "source": [
    "world_2015.groupby('region', as_index=False)['pop_millions'].agg(['min', 'max'])"
   ]
  },
  {
   "cell_type": "markdown",
   "metadata": {
    "slideshow": {
     "slide_type": "-"
    }
   },
   "source": [
    "We can also use `agg` to compute different statistics for different columns:"
   ]
  },
  {
   "cell_type": "code",
   "execution_count": 46,
   "metadata": {
    "slideshow": {
     "slide_type": "-"
    }
   },
   "outputs": [
    {
     "data": {
      "text/html": [
       "<div>\n",
       "<style scoped>\n",
       "    .dataframe tbody tr th:only-of-type {\n",
       "        vertical-align: middle;\n",
       "    }\n",
       "\n",
       "    .dataframe tbody tr th {\n",
       "        vertical-align: top;\n",
       "    }\n",
       "\n",
       "    .dataframe thead tr th {\n",
       "        text-align: left;\n",
       "    }\n",
       "</style>\n",
       "<table border=\"1\" class=\"dataframe\">\n",
       "  <thead>\n",
       "    <tr>\n",
       "      <th></th>\n",
       "      <th>region</th>\n",
       "      <th>pop_millions</th>\n",
       "      <th colspan=\"2\" halign=\"left\">life_expectancy</th>\n",
       "    </tr>\n",
       "    <tr>\n",
       "      <th></th>\n",
       "      <th></th>\n",
       "      <th>sum</th>\n",
       "      <th>min</th>\n",
       "      <th>max</th>\n",
       "    </tr>\n",
       "  </thead>\n",
       "  <tbody>\n",
       "    <tr>\n",
       "      <th>0</th>\n",
       "      <td>Africa</td>\n",
       "      <td>1191.9177</td>\n",
       "      <td>49.6</td>\n",
       "      <td>77.4</td>\n",
       "    </tr>\n",
       "    <tr>\n",
       "      <th>1</th>\n",
       "      <td>Americas</td>\n",
       "      <td>982.6889</td>\n",
       "      <td>63.9</td>\n",
       "      <td>81.7</td>\n",
       "    </tr>\n",
       "    <tr>\n",
       "      <th>2</th>\n",
       "      <td>Asia</td>\n",
       "      <td>4391.6350</td>\n",
       "      <td>57.9</td>\n",
       "      <td>83.8</td>\n",
       "    </tr>\n",
       "    <tr>\n",
       "      <th>3</th>\n",
       "      <td>Europe</td>\n",
       "      <td>740.4830</td>\n",
       "      <td>70.8</td>\n",
       "      <td>83.1</td>\n",
       "    </tr>\n",
       "    <tr>\n",
       "      <th>4</th>\n",
       "      <td>Oceania</td>\n",
       "      <td>38.4860</td>\n",
       "      <td>60.5</td>\n",
       "      <td>82.6</td>\n",
       "    </tr>\n",
       "  </tbody>\n",
       "</table>\n",
       "</div>"
      ],
      "text/plain": [
       "     region pop_millions life_expectancy      \n",
       "                     sum             min   max\n",
       "0    Africa    1191.9177            49.6  77.4\n",
       "1  Americas     982.6889            63.9  81.7\n",
       "2      Asia    4391.6350            57.9  83.8\n",
       "3    Europe     740.4830            70.8  83.1\n",
       "4   Oceania      38.4860            60.5  82.6"
      ]
     },
     "execution_count": 46,
     "metadata": {},
     "output_type": "execute_result"
    }
   ],
   "source": [
    "agg_dict = {'pop_millions' : 'sum', \n",
    "            'life_expectancy' : ['min', 'max']}\n",
    "world_2015.groupby('region', as_index=False).agg(agg_dict)"
   ]
  },
  {
   "cell_type": "markdown",
   "metadata": {
    "slideshow": {
     "slide_type": "-"
    }
   },
   "source": [
    "For even more complex aggregations, there is also a `pivot_table()` method."
   ]
  },
  {
   "cell_type": "markdown",
   "metadata": {
    "slideshow": {
     "slide_type": "slide"
    }
   },
   "source": [
    "## Exercise 1.3\n",
    "\n",
    "For this exercise we're working with the original DataFrame `world` (containing all years).\n",
    "\n",
    "a) Initial setup (you can skip to part b if you've already done this):\n",
    "  - Compute the population in millions: divide `world['population']` by `1e6` and assign the result to `world['pop_millions']`. \n",
    "\n",
    "b) Group the DataFrame `world` by year and compute the world total population (in millions) in each year."
   ]
  },
  {
   "cell_type": "code",
   "execution_count": null,
   "metadata": {
    "slideshow": {
     "slide_type": "fragment"
    }
   },
   "outputs": [],
   "source": []
  },
  {
   "cell_type": "markdown",
   "metadata": {
    "slideshow": {
     "slide_type": "slide"
    }
   },
   "source": [
    "## Break Time!"
   ]
  },
  {
   "cell_type": "markdown",
   "metadata": {
    "slideshow": {
     "slide_type": "skip"
    }
   },
   "source": [
    "[previous lesson](https://jenfly.github.io/datajam-python/0-jupyter.html) | [next lesson](https://jenfly.github.io/datajam-python/2-dataviz.html)\n",
    "\n",
    "[home](https://jenfly.github.io/datajam-python/0-jupyter.html)"
   ]
  }
 ],
 "metadata": {
  "celltoolbar": "Slideshow",
  "kernelspec": {
   "display_name": "Python 3",
   "language": "python",
   "name": "python3"
  },
  "language_info": {
   "codemirror_mode": {
    "name": "ipython",
    "version": 3
   },
   "file_extension": ".py",
   "mimetype": "text/x-python",
   "name": "python",
   "nbconvert_exporter": "python",
   "pygments_lexer": "ipython3",
   "version": "3.8.8"
  },
  "livereveal": {
   "scroll": true,
   "theme": "solarized",
   "transition": "none"
  }
 },
 "nbformat": 4,
 "nbformat_minor": 4
}
